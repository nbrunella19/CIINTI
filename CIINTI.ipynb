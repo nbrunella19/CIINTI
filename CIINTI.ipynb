{
  "cells": [
    {
      "cell_type": "markdown",
      "metadata": {
        "id": "view-in-github",
        "colab_type": "text"
      },
      "source": [
        "<a href=\"https://colab.research.google.com/github/nbrunella19/CIINTI/blob/main/CIINTI.ipynb\" target=\"_parent\"><img src=\"https://colab.research.google.com/assets/colab-badge.svg\" alt=\"Open In Colab\"/></a>"
      ]
    },
    {
      "cell_type": "markdown",
      "source": [
        "# Librerias"
      ],
      "metadata": {
        "id": "bdKmSv-HHQTM"
      }
    },
    {
      "cell_type": "code",
      "source": [
        "import io\n",
        "import glob\n",
        "import os\n",
        "import sys                                                                # to indicate errors and exceptions\n",
        "import re\n",
        "import traceback\n",
        "import cmath  # Use cmath for complex roots\n",
        "import numpy as np\n",
        "import pandas as pd\n",
        "import ipywidgets as widgets\n",
        "import matplotlib.pyplot as plt\n",
        "from io import StringIO\n",
        "from datetime import datetime\n",
        "from google.colab import files\n",
        "from IPython.display import FileLink\n",
        "from IPython.display import display\n",
        "from IPython.display import clear_output\n"
      ],
      "metadata": {
        "id": "YyivHyslHX8v"
      },
      "execution_count": 1,
      "outputs": []
    },
    {
      "cell_type": "markdown",
      "source": [
        "# Funciones\n"
      ],
      "metadata": {
        "id": "Tt7SeMDYM_L_"
      }
    },
    {
      "cell_type": "code",
      "source": [
        "# Función para seleccionar un archivo\n",
        "def seleccionar_archivo():\n",
        "    # Muestra un cuadro de diálogo para cargar un archivo\n",
        "    uploaded = files.upload()\n",
        "\n",
        "    # Obtiene la ruta del archivo cargado\n",
        "    ruta_al_archivo = list(uploaded.keys())[0]\n",
        "\n",
        "    # Crea un enlace para abrir el archivo\n",
        "    file_path_i = FileLink(ruta_al_archivo)\n",
        "    # Muestra el enlace\n",
        "    # display(file_path_i)\n",
        "    return (file_path_i)\n",
        "\n",
        "# Llama a la función para seleccionar un archivo\n",
        "#file_path= str(seleccionar_archivo())\n",
        "\n",
        "#file_path"
      ],
      "metadata": {
        "id": "HwZCW2X-Jpy-"
      },
      "execution_count": 2,
      "outputs": []
    },
    {
      "cell_type": "code",
      "source": [
        "def openFile(path2file):\n",
        "    '''\n",
        "    openFile\n",
        "    ___________________\n",
        "    open the file, returns a list of the lines of path2file.\n",
        "    It is assumed that path2file is a .mea file (text based)\n",
        "    out = lines of file (strings)\n",
        "    input= path\n",
        "    '''\n",
        "    try:\n",
        "        with open(path2file, mode='r') as f:  # to ensure it closes correclty\n",
        "            lines = f.readlines()\n",
        "            return lines\n",
        "    except Exception as exception:\n",
        "        print(\"There was a problem opening {}\".format(path2file))\n",
        "        print(exception)\n",
        "        raise\n",
        "\n",
        "def read_mea_file(lines_of_mea_file, ln_preface = 81):\n",
        "    '''\n",
        "    The function reads and arrange the data list of the file called by openFile.\n",
        "    Inputs:\n",
        "        lines_of_mea_file: list of str lines read by openFile()\n",
        "        ln_preface(optional, default=  81): number of lines in the preface of the measurments file. They appear in all sets of measurements.\n",
        "    Outputs:\n",
        "        qlistInit: list containing the set measurement prefaces, eg. qlistInit[2]= preface of measurement 3\n",
        "        qlist: list containing the set measurements, eg. qlist[2]= measurement set number 3\n",
        "        qlistFinal: list containing the result resume of the measurement set, eg. qlistFinal[2]= resume of measurement set 3\n",
        "    To process it is preferable to have all measurements together in the same file.\n",
        "    Note that it doesn´t matter if the measurements have differet number of points.\n",
        "    '''\n",
        "    chunks = []\n",
        "    qlist = []\n",
        "    chunksInit =[]\n",
        "    qlistInit = []\n",
        "    chunksFinal = []\n",
        "    qlistFinal = []\n",
        "    nn = 0\n",
        "    counter = 0\n",
        "    ii = 0\n",
        "    for line in lines_of_mea_file:\n",
        "        if (nn>ln_preface and line != '\\n' and ii == 0):\n",
        "            chunks.append(line)\n",
        "            nn += 1\n",
        "        elif (nn<ln_preface):\n",
        "            chunksInit.append(line)\n",
        "            nn +=1\n",
        "        elif (nn>ln_preface and line == '\\n'):\n",
        "            ii = 1\n",
        "            nn += 1\n",
        "        elif (nn>ln_preface and ii == 1 and line != '***\\n'):\n",
        "            chunksFinal.append(line)\n",
        "            nn += 1\n",
        "        elif (line =='***\\n'):\n",
        "            ii = 0\n",
        "            counter += 1\n",
        "            nn = 0\n",
        "            qlist.append(chunks)\n",
        "            qlistInit.append(chunksInit)\n",
        "            qlistFinal.append(chunksFinal)\n",
        "            chunks = []\n",
        "            chunksInit = []\n",
        "            chunksFinal = []\n",
        "        else:\n",
        "            nn += 1\n",
        "    return qlistInit, qlist, qlistFinal,counter"
      ],
      "metadata": {
        "id": "qhefhGC0J7At"
      },
      "execution_count": 3,
      "outputs": []
    },
    {
      "cell_type": "code",
      "source": [
        "def openFile_T(path2file):\n",
        "    '''\n",
        "    openFile\n",
        "    ___________________\n",
        "    open the file, returns a list of the lines of path2file.\n",
        "    It is assumed that path2file is a .dat file (text based)\n",
        "    out = lines of file (strings)\n",
        "    input= path\n",
        "    '''\n",
        "    try:\n",
        "        with open(path2file, mode='r', encoding='utf-8', errors='ignore') as g:  # to ensure it closes correclty\n",
        "            lines = g.readlines()\n",
        "            return lines\n",
        "    except Exception as exception:\n",
        "        print(\"There was a problem opening {}\".format(path2file))\n",
        "        print(exception)\n",
        "        raise"
      ],
      "metadata": {
        "id": "6X6vN3z8KTpd"
      },
      "execution_count": 4,
      "outputs": []
    },
    {
      "cell_type": "code",
      "source": [
        "def counter_different_values(lista):\n",
        "    '''\n",
        "    Accounts for different types of measurement current\n",
        "    '''\n",
        "    different_values = set(lista)\n",
        "    different_quantity = len(different_values)\n",
        "    return different_quantity\n",
        "\n",
        "#resume = counter_different_values(iList)"
      ],
      "metadata": {
        "id": "szUq1qd2UU53"
      },
      "execution_count": 5,
      "outputs": []
    },
    {
      "cell_type": "code",
      "execution_count": 6,
      "metadata": {
        "id": "Jr4iLDVmQqEx"
      },
      "outputs": [],
      "source": [
        "e = 20\n",
        "def create_df_from_list(qlist, n):\n",
        "    '''\n",
        "    Create a DataFrame from a list that coming from the .txt\n",
        "    '''\n",
        "    df_aux = pd.DataFrame([sub.split(';') for sub in qlist[n]])\n",
        "    df = df_aux.tail(e)                                               # Recorta la lista a un N° \"e\" (proximamente programable por el usuario)\n",
        "    df.columns = ['Ratio', 'Measure', 'Time']\n",
        "    return df"
      ]
    },
    {
      "cell_type": "code",
      "source": [
        "def convertir_formato(tiempo_string):\n",
        "    try:\n",
        "      tiempo_objeto = datetime.strptime(tiempo_string, '%H:%M:%S.%f')\n",
        "      nuevo_formato = tiempo_objeto.strftime('%H:%M:%S')\n",
        "    except ValueError:\n",
        "      nuevo_formato=tiempo_string\n",
        "    return nuevo_formato"
      ],
      "metadata": {
        "id": "eaPP7mZuTeQb"
      },
      "execution_count": 7,
      "outputs": []
    },
    {
      "cell_type": "markdown",
      "source": [
        "# Entorno gráfico"
      ],
      "metadata": {
        "id": "580e6MlmKxUk"
      }
    },
    {
      "cell_type": "code",
      "execution_count": 22,
      "metadata": {
        "id": "1_Zm-EhoI5d0",
        "colab": {
          "base_uri": "https://localhost:8080/",
          "height": 0,
          "referenced_widgets": [
            "e3b9ad7b33314af58ebfb250f2d7643d",
            "98719de04afa49a79a02a8b0807c7a4a",
            "db58c6aad97e49619584609d525a47f5",
            "78359f278875404bbd99750050952608",
            "1c4080dc00c148b5a4bca0a29886be96",
            "008074f3de9d404f96f332189e67f7d6",
            "9faede02b1fd4a1f9b7e5f0d37a40ee8",
            "eb0cb894adcd40299186164db07ed6aa",
            "5615d7e8fbf0476388a34b22f89615fd",
            "e4f6935e40bd4805b305a45c9a0a7f08",
            "82fd61bb27ee40ae96a9e518b8cfdf8b",
            "653d862ed6f5461e8a8e3a6fc0fd85b9",
            "8b6d23fcdb0341d99018716967237d24",
            "8a6fe90c031e40f78d8e2aca4a12b118",
            "fc90ae56e814460aaf6cdfc5bd6aae77",
            "b8ddf94793b34e41b4fa121a1a2ab32b",
            "4626032d6ced4ad28963164fcb4780ea",
            "b8cfa781eb484ef584d578fae426019e",
            "fe7dc378b1754bc9b0ec3b43d38660e3",
            "ff0509b93d9548819afd09ef16f96135",
            "6ff86d027d654566b0548d4732eb4c07",
            "7ed48cf166cf41c1867e629d822367c0",
            "ef2571b67f9f4e008b438c6b5783bd57",
            "908cff68f66c462b9f64cf349bb7735e",
            "49d8cd76f477435483b639da5f5e76f0",
            "4a098b9c105d4960a3f54bb9865a0327",
            "a209a716ad504eaaa4b5db20b2b2ece8",
            "03efcf04ac5143c3948e8977a983bd6e",
            "f333c0397322440882755c99085f9a86",
            "100434e73fd44dc2accbccd17d386831"
          ]
        },
        "outputId": "0ce5bdfa-ef52-45c2-b1bd-e97b10a85cb5"
      },
      "outputs": [
        {
          "output_type": "display_data",
          "data": {
            "text/plain": [
              "Dropdown(description='Seleccionar Medición:', index=2, options=('Medición 1', 'Medición 2', 'Medición 3', 'Med…"
            ],
            "application/vnd.jupyter.widget-view+json": {
              "version_major": 2,
              "version_minor": 0,
              "model_id": "e4f6935e40bd4805b305a45c9a0a7f08"
            }
          },
          "metadata": {}
        },
        {
          "output_type": "display_data",
          "data": {
            "text/plain": [
              "Button(description='Calcular', style=ButtonStyle())"
            ],
            "application/vnd.jupyter.widget-view+json": {
              "version_major": 2,
              "version_minor": 0,
              "model_id": "8b6d23fcdb0341d99018716967237d24"
            }
          },
          "metadata": {}
        },
        {
          "output_type": "display_data",
          "data": {
            "text/plain": [
              "Button(description='Graficar', style=ButtonStyle())"
            ],
            "application/vnd.jupyter.widget-view+json": {
              "version_major": 2,
              "version_minor": 0,
              "model_id": "b8ddf94793b34e41b4fa121a1a2ab32b"
            }
          },
          "metadata": {}
        },
        {
          "output_type": "display_data",
          "data": {
            "text/plain": [
              "Button(description='Limpiar', style=ButtonStyle())"
            ],
            "application/vnd.jupyter.widget-view+json": {
              "version_major": 2,
              "version_minor": 0,
              "model_id": "fe7dc378b1754bc9b0ec3b43d38660e3"
            }
          },
          "metadata": {}
        },
        {
          "output_type": "display_data",
          "data": {
            "text/plain": [
              "Label(value='')"
            ],
            "application/vnd.jupyter.widget-view+json": {
              "version_major": 2,
              "version_minor": 0,
              "model_id": "7ed48cf166cf41c1867e629d822367c0"
            }
          },
          "metadata": {}
        },
        {
          "output_type": "display_data",
          "data": {
            "text/plain": [
              "Label(value='')"
            ],
            "application/vnd.jupyter.widget-view+json": {
              "version_major": 2,
              "version_minor": 0,
              "model_id": "49d8cd76f477435483b639da5f5e76f0"
            }
          },
          "metadata": {}
        },
        {
          "output_type": "display_data",
          "data": {
            "text/plain": [
              "Label(value='')"
            ],
            "application/vnd.jupyter.widget-view+json": {
              "version_major": 2,
              "version_minor": 0,
              "model_id": "03efcf04ac5143c3948e8977a983bd6e"
            }
          },
          "metadata": {}
        }
      ],
      "source": [
        "############################################ Opciones para el menú desplegable ############################################################\n",
        "flag_windows=0\n",
        "index=0\n",
        "counter_m = []\n",
        "\n",
        "lineas = openFile(file_path)\n",
        "qlistInit, qlist, qlistFinal,counter= read_mea_file(lineas, ln_preface = 81)\n",
        "\n",
        "for i in range(counter):\n",
        "  counter_m.append(\"Medición \"+str(i+1))\n",
        "  counter_mv = {opcion: i + 1 for i, opcion in enumerate(counter_m)}\n",
        "\n",
        "def handle_dropdown_change(change):\n",
        "    global index\n",
        "    opcion_seleccionada = change.new\n",
        "    index = counter_mv[opcion_seleccionada]-1\n",
        "    print(f\"Opción seleccionada: {opcion_seleccionada}\")\n",
        "    display(df_m[index])\n",
        "                                           # Crear el menú desplegable\n",
        "menu_desplegable = widgets.Dropdown(\n",
        "    options=counter_m,\n",
        "    value=counter_m[0],  # Valor predeterminado seleccionado\n",
        "    description='Seleccionar Medición:')\n",
        "\n",
        "############################################################################################################################################\n",
        "################################################# Funciones para Botones  ##################################################################\n",
        "def on_button1_click(b):\n",
        "    sd=np.std(measure_f[index])    # sd es el desvío estándar (standard deviation )\n",
        "    am=np.mean(measure_f[index])   # am es el valor promedio medido (average measure)\n",
        "    output_text1.value = \"El valor medio de la medición \"+str(index+1)+\" es: \"+str(am)\n",
        "    output_text2.value = \"Incertidumbre tipo a (Ua) es: \"+str(sd)\n",
        "    output_text3.value = \"La Temperatura media (T): \" + str(calculator_temp_average(*get_time_measure(df_m, index)))\n",
        "\n",
        "def on_button2_click(b):\n",
        "    output_text1.value = ''\n",
        "    output_text2.value = ''\n",
        "    output_text3.value = ''\n",
        "    clear_output()\n",
        "    show_menu()\n",
        "\n",
        "\n",
        "def on_button3_click(b):\n",
        "    global index\n",
        "    t_x = time_h[index]\n",
        "    r_y = measure_f[index]\n",
        "    r_y_array = np.array(r_y, dtype=float)\n",
        "    r_y_array = r_y_array - r_y_array.mean()\n",
        "    plt.figure(figsize=(15,6))\n",
        "    plt.xticks(rotation=45)\n",
        "    display(plt.plot(t_x, r_y_array))\n",
        "\n",
        "def on_button4_click(b):                      #Carga de .mea\n",
        "    file_path= str(seleccionar_archivo())\n",
        "    #clear_output()\n",
        "\n",
        "def on_button5_click(b):                      #Carga de .dat\n",
        "    file_path_t= str(seleccionar_archivo())\n",
        "\n",
        "def on_button6_click(b):                      #Procesar\n",
        "    clear_output()\n",
        "    show_menu()\n",
        "\n",
        "def show_menu():\n",
        "    display(menu_desplegable)\n",
        "    display(button1)\n",
        "    display(button3)\n",
        "    display(button2)\n",
        "    display(output_text1)\n",
        "    display(output_text2)\n",
        "    display(output_text3)\n",
        "\n",
        "def show_carga():\n",
        "    display(button4)\n",
        "    display(button5)\n",
        "    display(button6)\n",
        "\n",
        "\n",
        "############################################################################################################################################\n",
        "\n",
        "# Crear widgets\n",
        "output_text1 = widgets.Label(value='')\n",
        "output_text2 = widgets.Label(value='')\n",
        "output_text3 = widgets.Label(value='')\n",
        "\n",
        "\n",
        "button1 = widgets.Button(description=\"Calcular\")\n",
        "button2 = widgets.Button(description=\"Limpiar\")\n",
        "button3 = widgets.Button(description=\"Graficar\")\n",
        "button4 = widgets.Button(description=\"Cargar *.mea\")\n",
        "button5 = widgets.Button(description=\"Cargar *.dat\")\n",
        "button6 = widgets.Button(description=\"Siguiente\")\n",
        "\n",
        "\n",
        "# Configurar la función a llamar cuando se hace clic en el botón\n",
        "button1.on_click(on_button1_click)\n",
        "button2.on_click(on_button2_click)\n",
        "button3.on_click(on_button3_click)\n",
        "button4.on_click(on_button4_click)\n",
        "button5.on_click(on_button5_click)\n",
        "button6.on_click(on_button6_click)\n",
        "\n",
        "\n",
        "# Conectar la función al evento de cambio en el menú desplegable\n",
        "menu_desplegable.observe(handle_dropdown_change, names='value')\n",
        "\n",
        "# Mostrar los widgets\n",
        "show_carga()\n",
        "\n",
        "\n",
        "\n"
      ]
    },
    {
      "cell_type": "markdown",
      "source": [
        "Del certificado:\n",
        "\n",
        "R0 = resistencia a T = 0 ºC\n",
        "a = coef lineal (1/K)\n",
        "b = coef cuad (1/K^2)\n",
        "\n",
        "Generar un archivo de calibraciones de la sonda (están en base de datos, pero de ahí hay que armarlo)\n",
        "\n",
        "\n",
        "R(T) = R0 * (1+a*t+b*t**2)\n",
        "\n",
        "0 = R0-R(T) + R0 * a* t + R0 * b*t**2\n",
        "\n",
        "Bascara:\n",
        "\n",
        "t1,2 = (-b+/- sqrt(b**2 - 4*a*c))/2*a\n",
        "\n"
      ],
      "metadata": {
        "id": "R2EyrjErjMEM"
      }
    },
    {
      "cell_type": "code",
      "source": [
        "\n",
        "\n"
      ],
      "metadata": {
        "id": "TAV7F6JokQIw"
      },
      "execution_count": 22,
      "outputs": []
    },
    {
      "cell_type": "markdown",
      "source": [
        "# Análisis de archivo de medición de resistencia"
      ],
      "metadata": {
        "id": "Rryf_0UpKn5U"
      }
    },
    {
      "cell_type": "code",
      "execution_count": 8,
      "metadata": {
        "id": "kVwFJZYQAH4b",
        "colab": {
          "base_uri": "https://localhost:8080/",
          "height": 200
        },
        "outputId": "a4f3a8e4-1c46-4bac-dfae-e28c4a9a3258"
      },
      "outputs": [
        {
          "output_type": "error",
          "ename": "NameError",
          "evalue": "name 'file_path' is not defined",
          "traceback": [
            "\u001b[0;31m---------------------------------------------------------------------------\u001b[0m",
            "\u001b[0;31mNameError\u001b[0m                                 Traceback (most recent call last)",
            "\u001b[0;32m<ipython-input-8-c9a2bce956dc>\u001b[0m in \u001b[0;36m<cell line: 1>\u001b[0;34m()\u001b[0m\n\u001b[0;32m----> 1\u001b[0;31m \u001b[0mlineas\u001b[0m \u001b[0;34m=\u001b[0m \u001b[0mopenFile\u001b[0m\u001b[0;34m(\u001b[0m\u001b[0mfile_path\u001b[0m\u001b[0;34m)\u001b[0m\u001b[0;34m\u001b[0m\u001b[0;34m\u001b[0m\u001b[0m\n\u001b[0m\u001b[1;32m      2\u001b[0m \u001b[0mqlistInit\u001b[0m\u001b[0;34m,\u001b[0m \u001b[0mqlist\u001b[0m\u001b[0;34m,\u001b[0m \u001b[0mqlistFinal\u001b[0m\u001b[0;34m,\u001b[0m\u001b[0mcounter\u001b[0m\u001b[0;34m=\u001b[0m \u001b[0mread_mea_file\u001b[0m\u001b[0;34m(\u001b[0m\u001b[0mlineas\u001b[0m\u001b[0;34m,\u001b[0m \u001b[0mln_preface\u001b[0m \u001b[0;34m=\u001b[0m \u001b[0;36m81\u001b[0m\u001b[0;34m)\u001b[0m\u001b[0;34m\u001b[0m\u001b[0;34m\u001b[0m\u001b[0m\n",
            "\u001b[0;31mNameError\u001b[0m: name 'file_path' is not defined"
          ]
        }
      ],
      "source": [
        "lineas = openFile(file_path)\n",
        "qlistInit, qlist, qlistFinal,counter= read_mea_file(lineas, ln_preface = 81)\n"
      ]
    },
    {
      "cell_type": "code",
      "execution_count": null,
      "metadata": {
        "id": "ROk8QY_tQyX8"
      },
      "outputs": [],
      "source": [
        "df_m = [create_df_from_list(qlist, i) for i in range(counter)]         # I Create a list of DataFrame\n",
        "\n",
        "for i in range(counter):\n",
        "    df_m[i]['Time'] = df_m[i]['Time'].str.strip()                      # Le saca el a la columan Time'\\n'\n",
        "\n",
        "#df_m"
      ]
    },
    {
      "cell_type": "code",
      "execution_count": null,
      "metadata": {
        "id": "BDwadNk0C_Ly"
      },
      "outputs": [],
      "source": [
        "measure_f=[]  #Lista de mediciones en formato float\n",
        "time_h=[]     #Lista de hora en formato \"H\":\"M\":\"S\"\n",
        "for i in range(counter):\n",
        "      # Genero un listado de listas del tipo float\n",
        "      measure_f.append([float(numero) for numero in df_m[i][\"Measure\"]])\n",
        "      time_h.append(df_m[i][\"Time\"])\n",
        ""
      ]
    },
    {
      "cell_type": "code",
      "execution_count": null,
      "metadata": {
        "id": "xqI9rjNejqnf"
      },
      "outputs": [],
      "source": [
        "#Acá obtengo una lista de los parámetros de las mediciones\n",
        "\n",
        "iList=[0]*counter               #Listado de corrientes\n",
        "RsList=[0]*counter              #Listado de patrones\n",
        "RxList=[0]*counter              #Listado de Mesurandos\n",
        "MvList=[0]*counter              #Listado de Mediciones medias\n",
        "StList=[0]*counter              #Listado de desvios\n",
        "StartDateList=[0]*counter       #Listado de fecha de inicio\n",
        "StartHoursList=[0]*counter      #Listado de horario de inicio\n",
        "StopDateList=[0]*counter        #Listado de fecha de finalización\n",
        "StopHoursList=[0]*counter       #Listado de horario de finalización\n",
        "\n",
        "for i in range(counter):\n",
        "  StartDate_aux= qlistInit[i][13].strip()\n",
        "  StartDateList[i]= StartDate_aux[:9]\n",
        "  StartHoursList[i]= StartDate_aux[-8:]\n",
        "\n",
        "  StopDate_aux= qlistFinal[i][11].strip()\n",
        "  StopDateList[i]= StopDate_aux[:9]\n",
        "  StopHoursList[i]= StopDate_aux[-8:]\n",
        "\n",
        "  iList[i]=  qlistInit[i][22].strip()\n",
        "  RsList[i]= qlistInit[i][33].strip()\n",
        "  RxList[i]= qlistInit[i][57].strip()\n",
        "  MvList[i]= np.mean(measure_f[i])\n",
        "  StList[i]= np.std(measure_f[i])\n",
        "\n",
        "StartDateList,StopDateList\n",
        "#DateList\n",
        "#iList,RsList,RxList\n",
        "#MvList,StList\n",
        "\n"
      ]
    },
    {
      "cell_type": "code",
      "source": [
        "#global e\n",
        "#CDateList=[]\n",
        "#for i in range(e):\n",
        "#  CDateList.append(DateList[0])\n",
        "\n",
        "#DateList[0], CDateList\n",
        "\n"
      ],
      "metadata": {
        "id": "KOP1xxJpvmjN"
      },
      "execution_count": null,
      "outputs": []
    },
    {
      "cell_type": "markdown",
      "source": [
        "# Análisis de archivo de medición de temperatura"
      ],
      "metadata": {
        "id": "eaSAICqZMnlI"
      }
    },
    {
      "cell_type": "code",
      "source": [
        "lineas_t = openFile_T(file_path_t)\n",
        "#lineas_t"
      ],
      "metadata": {
        "id": "M6gNgY3YLn_f"
      },
      "execution_count": 16,
      "outputs": []
    },
    {
      "cell_type": "code",
      "source": [
        "lineas_t_str = '\\n'.join(lineas_t)\n",
        "df_t = pd.read_csv(StringIO(lineas_t_str), delimiter=';', skiprows=1, header=None, names=['Time T', 'Mean T', 'NaN'], parse_dates=True)\n",
        "df_t = df_t.drop(0, axis=0)         #Borra el primer valor\n",
        "df_t = df_t.drop(columns=['NaN'])   #Borro la columna NaN que no sirve\n",
        "df_t = df_t[['Mean T', 'Time T']]   #Invierto las columnas\n",
        "\n",
        "size_df_t=df_t.shape[0]\n",
        "#size_df_t\n"
      ],
      "metadata": {
        "id": "q-UP02J6bwtB"
      },
      "execution_count": 17,
      "outputs": []
    },
    {
      "cell_type": "code",
      "source": [
        "timetempList=[]\n",
        "\n",
        "timetempList.append(df_t['Time T'])\n",
        "timetempList = [convertir_formato(tiempo) for tiempo in timetempList[0]]\n",
        "\n",
        "df_t['Time T']= timetempList       #Listado de tiempos detemperatura en formato H:M:S\n",
        "\n",
        ""
      ],
      "metadata": {
        "id": "hMz-A1j7r8nW"
      },
      "execution_count": 18,
      "outputs": []
    },
    {
      "cell_type": "code",
      "source": [
        "def get_time_measure(df_m,index):\n",
        "  row_start=0\n",
        "  row_end=19\n",
        "  timestart= df_m[index].iloc[row_start, df_m[index].columns.get_loc('Time')]\n",
        "  timestop = df_m[index].iloc[row_end, df_m[index].columns.get_loc('Time')]\n",
        "  return timestart,timestop\n",
        "\n",
        "\n",
        "#timestart,timestop=get_time_measure(df_m,0)"
      ],
      "metadata": {
        "id": "_U4jrtxG0R7m"
      },
      "execution_count": 19,
      "outputs": []
    },
    {
      "cell_type": "code",
      "source": [
        "def solve_quadratic(a, b, c):\n",
        "    '''\n",
        "    Esta ecuación resuelve la cuadrática asumiendo que\n",
        "    ax**2+bx+c=0\n",
        "    output = root1, root2\n",
        "    '''\n",
        "    # Calculate the discriminant\n",
        "    discriminant = cmath.sqrt(b**2 - 4*a*c)\n",
        "\n",
        "    # Calculate the solutions\n",
        "    root1 = (-b + discriminant) / (2*a)\n",
        "    root2 = (-b - discriminant) / (2*a)\n",
        "\n",
        "    root1 = root1.real if abs(root1.imag) < 1e-10 else float('nan')\n",
        "    root2 = root2.real if abs(root2.imag) < 1e-10 else float('nan')\n",
        "\n",
        "    return float(root1), float(root2)\n",
        "\n",
        "\n"
      ],
      "metadata": {
        "id": "5U8GawKNwkxC"
      },
      "execution_count": 20,
      "outputs": []
    },
    {
      "cell_type": "code",
      "source": [
        "def calculator_temp_average(timestart,timestop):\n",
        "  templist=[]\n",
        "\n",
        "  R_0 = 99.942247\n",
        "  alpha=0.0039253221\n",
        "  beta=-7.5009932*10**(-7)\n",
        "\n",
        "  for i in range(size_df_t):                                          # Recorre todo el archivo\n",
        "    time_aux = df_t.iloc[i, df_t.columns.get_loc('Time T')]           # Dato tomado desde .dat\n",
        "    if time_aux>=timestart and time_aux<=timestop:                    # Comparo con lo tomado desde .mea\n",
        "      templist.append(df_t.iloc[i, df_t.columns.get_loc('Mean T')])   # Si cumple la condición lo agrego, sino no.\n",
        "\n",
        "  R_T=np.mean(templist)                                               # Saco el promedio\n",
        "\n",
        "  c1 = R_0- R_T                                                       # Determino los coeficientes de la cuadrática\n",
        "  b1 = R_0*alpha\n",
        "  a1 = R_0*beta\n",
        "  T1,T2 = solve_quadratic(a1, b1, c1)\n",
        "  if T2>0 and T2<35:\n",
        "    Tfinal= T2\n",
        "  else:\n",
        "     Tfinal= T1\n",
        "  return Tfinal\n",
        ""
      ],
      "metadata": {
        "id": "V9QkNUnn51Qf"
      },
      "execution_count": 21,
      "outputs": []
    }
  ],
  "metadata": {
    "colab": {
      "provenance": [],
      "include_colab_link": true
    },
    "kernelspec": {
      "display_name": "Python 3",
      "name": "python3"
    },
    "language_info": {
      "name": "python"
    },
    "widgets": {
      "application/vnd.jupyter.widget-state+json": {
        "e3b9ad7b33314af58ebfb250f2d7643d": {
          "model_module": "@jupyter-widgets/controls",
          "model_name": "ButtonModel",
          "model_module_version": "1.5.0",
          "state": {
            "_dom_classes": [],
            "_model_module": "@jupyter-widgets/controls",
            "_model_module_version": "1.5.0",
            "_model_name": "ButtonModel",
            "_view_count": null,
            "_view_module": "@jupyter-widgets/controls",
            "_view_module_version": "1.5.0",
            "_view_name": "ButtonView",
            "button_style": "",
            "description": "Cargar *.mea",
            "disabled": false,
            "icon": "",
            "layout": "IPY_MODEL_98719de04afa49a79a02a8b0807c7a4a",
            "style": "IPY_MODEL_db58c6aad97e49619584609d525a47f5",
            "tooltip": ""
          }
        },
        "98719de04afa49a79a02a8b0807c7a4a": {
          "model_module": "@jupyter-widgets/base",
          "model_name": "LayoutModel",
          "model_module_version": "1.2.0",
          "state": {
            "_model_module": "@jupyter-widgets/base",
            "_model_module_version": "1.2.0",
            "_model_name": "LayoutModel",
            "_view_count": null,
            "_view_module": "@jupyter-widgets/base",
            "_view_module_version": "1.2.0",
            "_view_name": "LayoutView",
            "align_content": null,
            "align_items": null,
            "align_self": null,
            "border": null,
            "bottom": null,
            "display": null,
            "flex": null,
            "flex_flow": null,
            "grid_area": null,
            "grid_auto_columns": null,
            "grid_auto_flow": null,
            "grid_auto_rows": null,
            "grid_column": null,
            "grid_gap": null,
            "grid_row": null,
            "grid_template_areas": null,
            "grid_template_columns": null,
            "grid_template_rows": null,
            "height": null,
            "justify_content": null,
            "justify_items": null,
            "left": null,
            "margin": null,
            "max_height": null,
            "max_width": null,
            "min_height": null,
            "min_width": null,
            "object_fit": null,
            "object_position": null,
            "order": null,
            "overflow": null,
            "overflow_x": null,
            "overflow_y": null,
            "padding": null,
            "right": null,
            "top": null,
            "visibility": null,
            "width": null
          }
        },
        "db58c6aad97e49619584609d525a47f5": {
          "model_module": "@jupyter-widgets/controls",
          "model_name": "ButtonStyleModel",
          "model_module_version": "1.5.0",
          "state": {
            "_model_module": "@jupyter-widgets/controls",
            "_model_module_version": "1.5.0",
            "_model_name": "ButtonStyleModel",
            "_view_count": null,
            "_view_module": "@jupyter-widgets/base",
            "_view_module_version": "1.2.0",
            "_view_name": "StyleView",
            "button_color": null,
            "font_weight": ""
          }
        },
        "78359f278875404bbd99750050952608": {
          "model_module": "@jupyter-widgets/controls",
          "model_name": "ButtonModel",
          "model_module_version": "1.5.0",
          "state": {
            "_dom_classes": [],
            "_model_module": "@jupyter-widgets/controls",
            "_model_module_version": "1.5.0",
            "_model_name": "ButtonModel",
            "_view_count": null,
            "_view_module": "@jupyter-widgets/controls",
            "_view_module_version": "1.5.0",
            "_view_name": "ButtonView",
            "button_style": "",
            "description": "Cargar *.dat",
            "disabled": false,
            "icon": "",
            "layout": "IPY_MODEL_1c4080dc00c148b5a4bca0a29886be96",
            "style": "IPY_MODEL_008074f3de9d404f96f332189e67f7d6",
            "tooltip": ""
          }
        },
        "1c4080dc00c148b5a4bca0a29886be96": {
          "model_module": "@jupyter-widgets/base",
          "model_name": "LayoutModel",
          "model_module_version": "1.2.0",
          "state": {
            "_model_module": "@jupyter-widgets/base",
            "_model_module_version": "1.2.0",
            "_model_name": "LayoutModel",
            "_view_count": null,
            "_view_module": "@jupyter-widgets/base",
            "_view_module_version": "1.2.0",
            "_view_name": "LayoutView",
            "align_content": null,
            "align_items": null,
            "align_self": null,
            "border": null,
            "bottom": null,
            "display": null,
            "flex": null,
            "flex_flow": null,
            "grid_area": null,
            "grid_auto_columns": null,
            "grid_auto_flow": null,
            "grid_auto_rows": null,
            "grid_column": null,
            "grid_gap": null,
            "grid_row": null,
            "grid_template_areas": null,
            "grid_template_columns": null,
            "grid_template_rows": null,
            "height": null,
            "justify_content": null,
            "justify_items": null,
            "left": null,
            "margin": null,
            "max_height": null,
            "max_width": null,
            "min_height": null,
            "min_width": null,
            "object_fit": null,
            "object_position": null,
            "order": null,
            "overflow": null,
            "overflow_x": null,
            "overflow_y": null,
            "padding": null,
            "right": null,
            "top": null,
            "visibility": null,
            "width": null
          }
        },
        "008074f3de9d404f96f332189e67f7d6": {
          "model_module": "@jupyter-widgets/controls",
          "model_name": "ButtonStyleModel",
          "model_module_version": "1.5.0",
          "state": {
            "_model_module": "@jupyter-widgets/controls",
            "_model_module_version": "1.5.0",
            "_model_name": "ButtonStyleModel",
            "_view_count": null,
            "_view_module": "@jupyter-widgets/base",
            "_view_module_version": "1.2.0",
            "_view_name": "StyleView",
            "button_color": null,
            "font_weight": ""
          }
        },
        "9faede02b1fd4a1f9b7e5f0d37a40ee8": {
          "model_module": "@jupyter-widgets/controls",
          "model_name": "ButtonModel",
          "model_module_version": "1.5.0",
          "state": {
            "_dom_classes": [],
            "_model_module": "@jupyter-widgets/controls",
            "_model_module_version": "1.5.0",
            "_model_name": "ButtonModel",
            "_view_count": null,
            "_view_module": "@jupyter-widgets/controls",
            "_view_module_version": "1.5.0",
            "_view_name": "ButtonView",
            "button_style": "",
            "description": "Siguiente",
            "disabled": false,
            "icon": "",
            "layout": "IPY_MODEL_eb0cb894adcd40299186164db07ed6aa",
            "style": "IPY_MODEL_5615d7e8fbf0476388a34b22f89615fd",
            "tooltip": ""
          }
        },
        "eb0cb894adcd40299186164db07ed6aa": {
          "model_module": "@jupyter-widgets/base",
          "model_name": "LayoutModel",
          "model_module_version": "1.2.0",
          "state": {
            "_model_module": "@jupyter-widgets/base",
            "_model_module_version": "1.2.0",
            "_model_name": "LayoutModel",
            "_view_count": null,
            "_view_module": "@jupyter-widgets/base",
            "_view_module_version": "1.2.0",
            "_view_name": "LayoutView",
            "align_content": null,
            "align_items": null,
            "align_self": null,
            "border": null,
            "bottom": null,
            "display": null,
            "flex": null,
            "flex_flow": null,
            "grid_area": null,
            "grid_auto_columns": null,
            "grid_auto_flow": null,
            "grid_auto_rows": null,
            "grid_column": null,
            "grid_gap": null,
            "grid_row": null,
            "grid_template_areas": null,
            "grid_template_columns": null,
            "grid_template_rows": null,
            "height": null,
            "justify_content": null,
            "justify_items": null,
            "left": null,
            "margin": null,
            "max_height": null,
            "max_width": null,
            "min_height": null,
            "min_width": null,
            "object_fit": null,
            "object_position": null,
            "order": null,
            "overflow": null,
            "overflow_x": null,
            "overflow_y": null,
            "padding": null,
            "right": null,
            "top": null,
            "visibility": null,
            "width": null
          }
        },
        "5615d7e8fbf0476388a34b22f89615fd": {
          "model_module": "@jupyter-widgets/controls",
          "model_name": "ButtonStyleModel",
          "model_module_version": "1.5.0",
          "state": {
            "_model_module": "@jupyter-widgets/controls",
            "_model_module_version": "1.5.0",
            "_model_name": "ButtonStyleModel",
            "_view_count": null,
            "_view_module": "@jupyter-widgets/base",
            "_view_module_version": "1.2.0",
            "_view_name": "StyleView",
            "button_color": null,
            "font_weight": ""
          }
        },
        "e4f6935e40bd4805b305a45c9a0a7f08": {
          "model_module": "@jupyter-widgets/controls",
          "model_name": "DropdownModel",
          "model_module_version": "1.5.0",
          "state": {
            "_dom_classes": [],
            "_model_module": "@jupyter-widgets/controls",
            "_model_module_version": "1.5.0",
            "_model_name": "DropdownModel",
            "_options_labels": [
              "Medición 1",
              "Medición 2",
              "Medición 3",
              "Medición 4",
              "Medición 5",
              "Medición 6",
              "Medición 7",
              "Medición 8",
              "Medición 9",
              "Medición 10",
              "Medición 11",
              "Medición 12"
            ],
            "_view_count": null,
            "_view_module": "@jupyter-widgets/controls",
            "_view_module_version": "1.5.0",
            "_view_name": "DropdownView",
            "description": "Seleccionar Medición:",
            "description_tooltip": null,
            "disabled": false,
            "index": 2,
            "layout": "IPY_MODEL_82fd61bb27ee40ae96a9e518b8cfdf8b",
            "style": "IPY_MODEL_653d862ed6f5461e8a8e3a6fc0fd85b9"
          }
        },
        "82fd61bb27ee40ae96a9e518b8cfdf8b": {
          "model_module": "@jupyter-widgets/base",
          "model_name": "LayoutModel",
          "model_module_version": "1.2.0",
          "state": {
            "_model_module": "@jupyter-widgets/base",
            "_model_module_version": "1.2.0",
            "_model_name": "LayoutModel",
            "_view_count": null,
            "_view_module": "@jupyter-widgets/base",
            "_view_module_version": "1.2.0",
            "_view_name": "LayoutView",
            "align_content": null,
            "align_items": null,
            "align_self": null,
            "border": null,
            "bottom": null,
            "display": null,
            "flex": null,
            "flex_flow": null,
            "grid_area": null,
            "grid_auto_columns": null,
            "grid_auto_flow": null,
            "grid_auto_rows": null,
            "grid_column": null,
            "grid_gap": null,
            "grid_row": null,
            "grid_template_areas": null,
            "grid_template_columns": null,
            "grid_template_rows": null,
            "height": null,
            "justify_content": null,
            "justify_items": null,
            "left": null,
            "margin": null,
            "max_height": null,
            "max_width": null,
            "min_height": null,
            "min_width": null,
            "object_fit": null,
            "object_position": null,
            "order": null,
            "overflow": null,
            "overflow_x": null,
            "overflow_y": null,
            "padding": null,
            "right": null,
            "top": null,
            "visibility": null,
            "width": null
          }
        },
        "653d862ed6f5461e8a8e3a6fc0fd85b9": {
          "model_module": "@jupyter-widgets/controls",
          "model_name": "DescriptionStyleModel",
          "model_module_version": "1.5.0",
          "state": {
            "_model_module": "@jupyter-widgets/controls",
            "_model_module_version": "1.5.0",
            "_model_name": "DescriptionStyleModel",
            "_view_count": null,
            "_view_module": "@jupyter-widgets/base",
            "_view_module_version": "1.2.0",
            "_view_name": "StyleView",
            "description_width": ""
          }
        },
        "8b6d23fcdb0341d99018716967237d24": {
          "model_module": "@jupyter-widgets/controls",
          "model_name": "ButtonModel",
          "model_module_version": "1.5.0",
          "state": {
            "_dom_classes": [],
            "_model_module": "@jupyter-widgets/controls",
            "_model_module_version": "1.5.0",
            "_model_name": "ButtonModel",
            "_view_count": null,
            "_view_module": "@jupyter-widgets/controls",
            "_view_module_version": "1.5.0",
            "_view_name": "ButtonView",
            "button_style": "",
            "description": "Calcular",
            "disabled": false,
            "icon": "",
            "layout": "IPY_MODEL_8a6fe90c031e40f78d8e2aca4a12b118",
            "style": "IPY_MODEL_fc90ae56e814460aaf6cdfc5bd6aae77",
            "tooltip": ""
          }
        },
        "8a6fe90c031e40f78d8e2aca4a12b118": {
          "model_module": "@jupyter-widgets/base",
          "model_name": "LayoutModel",
          "model_module_version": "1.2.0",
          "state": {
            "_model_module": "@jupyter-widgets/base",
            "_model_module_version": "1.2.0",
            "_model_name": "LayoutModel",
            "_view_count": null,
            "_view_module": "@jupyter-widgets/base",
            "_view_module_version": "1.2.0",
            "_view_name": "LayoutView",
            "align_content": null,
            "align_items": null,
            "align_self": null,
            "border": null,
            "bottom": null,
            "display": null,
            "flex": null,
            "flex_flow": null,
            "grid_area": null,
            "grid_auto_columns": null,
            "grid_auto_flow": null,
            "grid_auto_rows": null,
            "grid_column": null,
            "grid_gap": null,
            "grid_row": null,
            "grid_template_areas": null,
            "grid_template_columns": null,
            "grid_template_rows": null,
            "height": null,
            "justify_content": null,
            "justify_items": null,
            "left": null,
            "margin": null,
            "max_height": null,
            "max_width": null,
            "min_height": null,
            "min_width": null,
            "object_fit": null,
            "object_position": null,
            "order": null,
            "overflow": null,
            "overflow_x": null,
            "overflow_y": null,
            "padding": null,
            "right": null,
            "top": null,
            "visibility": null,
            "width": null
          }
        },
        "fc90ae56e814460aaf6cdfc5bd6aae77": {
          "model_module": "@jupyter-widgets/controls",
          "model_name": "ButtonStyleModel",
          "model_module_version": "1.5.0",
          "state": {
            "_model_module": "@jupyter-widgets/controls",
            "_model_module_version": "1.5.0",
            "_model_name": "ButtonStyleModel",
            "_view_count": null,
            "_view_module": "@jupyter-widgets/base",
            "_view_module_version": "1.2.0",
            "_view_name": "StyleView",
            "button_color": null,
            "font_weight": ""
          }
        },
        "b8ddf94793b34e41b4fa121a1a2ab32b": {
          "model_module": "@jupyter-widgets/controls",
          "model_name": "ButtonModel",
          "model_module_version": "1.5.0",
          "state": {
            "_dom_classes": [],
            "_model_module": "@jupyter-widgets/controls",
            "_model_module_version": "1.5.0",
            "_model_name": "ButtonModel",
            "_view_count": null,
            "_view_module": "@jupyter-widgets/controls",
            "_view_module_version": "1.5.0",
            "_view_name": "ButtonView",
            "button_style": "",
            "description": "Graficar",
            "disabled": false,
            "icon": "",
            "layout": "IPY_MODEL_4626032d6ced4ad28963164fcb4780ea",
            "style": "IPY_MODEL_b8cfa781eb484ef584d578fae426019e",
            "tooltip": ""
          }
        },
        "4626032d6ced4ad28963164fcb4780ea": {
          "model_module": "@jupyter-widgets/base",
          "model_name": "LayoutModel",
          "model_module_version": "1.2.0",
          "state": {
            "_model_module": "@jupyter-widgets/base",
            "_model_module_version": "1.2.0",
            "_model_name": "LayoutModel",
            "_view_count": null,
            "_view_module": "@jupyter-widgets/base",
            "_view_module_version": "1.2.0",
            "_view_name": "LayoutView",
            "align_content": null,
            "align_items": null,
            "align_self": null,
            "border": null,
            "bottom": null,
            "display": null,
            "flex": null,
            "flex_flow": null,
            "grid_area": null,
            "grid_auto_columns": null,
            "grid_auto_flow": null,
            "grid_auto_rows": null,
            "grid_column": null,
            "grid_gap": null,
            "grid_row": null,
            "grid_template_areas": null,
            "grid_template_columns": null,
            "grid_template_rows": null,
            "height": null,
            "justify_content": null,
            "justify_items": null,
            "left": null,
            "margin": null,
            "max_height": null,
            "max_width": null,
            "min_height": null,
            "min_width": null,
            "object_fit": null,
            "object_position": null,
            "order": null,
            "overflow": null,
            "overflow_x": null,
            "overflow_y": null,
            "padding": null,
            "right": null,
            "top": null,
            "visibility": null,
            "width": null
          }
        },
        "b8cfa781eb484ef584d578fae426019e": {
          "model_module": "@jupyter-widgets/controls",
          "model_name": "ButtonStyleModel",
          "model_module_version": "1.5.0",
          "state": {
            "_model_module": "@jupyter-widgets/controls",
            "_model_module_version": "1.5.0",
            "_model_name": "ButtonStyleModel",
            "_view_count": null,
            "_view_module": "@jupyter-widgets/base",
            "_view_module_version": "1.2.0",
            "_view_name": "StyleView",
            "button_color": null,
            "font_weight": ""
          }
        },
        "fe7dc378b1754bc9b0ec3b43d38660e3": {
          "model_module": "@jupyter-widgets/controls",
          "model_name": "ButtonModel",
          "model_module_version": "1.5.0",
          "state": {
            "_dom_classes": [],
            "_model_module": "@jupyter-widgets/controls",
            "_model_module_version": "1.5.0",
            "_model_name": "ButtonModel",
            "_view_count": null,
            "_view_module": "@jupyter-widgets/controls",
            "_view_module_version": "1.5.0",
            "_view_name": "ButtonView",
            "button_style": "",
            "description": "Limpiar",
            "disabled": false,
            "icon": "",
            "layout": "IPY_MODEL_ff0509b93d9548819afd09ef16f96135",
            "style": "IPY_MODEL_6ff86d027d654566b0548d4732eb4c07",
            "tooltip": ""
          }
        },
        "ff0509b93d9548819afd09ef16f96135": {
          "model_module": "@jupyter-widgets/base",
          "model_name": "LayoutModel",
          "model_module_version": "1.2.0",
          "state": {
            "_model_module": "@jupyter-widgets/base",
            "_model_module_version": "1.2.0",
            "_model_name": "LayoutModel",
            "_view_count": null,
            "_view_module": "@jupyter-widgets/base",
            "_view_module_version": "1.2.0",
            "_view_name": "LayoutView",
            "align_content": null,
            "align_items": null,
            "align_self": null,
            "border": null,
            "bottom": null,
            "display": null,
            "flex": null,
            "flex_flow": null,
            "grid_area": null,
            "grid_auto_columns": null,
            "grid_auto_flow": null,
            "grid_auto_rows": null,
            "grid_column": null,
            "grid_gap": null,
            "grid_row": null,
            "grid_template_areas": null,
            "grid_template_columns": null,
            "grid_template_rows": null,
            "height": null,
            "justify_content": null,
            "justify_items": null,
            "left": null,
            "margin": null,
            "max_height": null,
            "max_width": null,
            "min_height": null,
            "min_width": null,
            "object_fit": null,
            "object_position": null,
            "order": null,
            "overflow": null,
            "overflow_x": null,
            "overflow_y": null,
            "padding": null,
            "right": null,
            "top": null,
            "visibility": null,
            "width": null
          }
        },
        "6ff86d027d654566b0548d4732eb4c07": {
          "model_module": "@jupyter-widgets/controls",
          "model_name": "ButtonStyleModel",
          "model_module_version": "1.5.0",
          "state": {
            "_model_module": "@jupyter-widgets/controls",
            "_model_module_version": "1.5.0",
            "_model_name": "ButtonStyleModel",
            "_view_count": null,
            "_view_module": "@jupyter-widgets/base",
            "_view_module_version": "1.2.0",
            "_view_name": "StyleView",
            "button_color": null,
            "font_weight": ""
          }
        },
        "7ed48cf166cf41c1867e629d822367c0": {
          "model_module": "@jupyter-widgets/controls",
          "model_name": "LabelModel",
          "model_module_version": "1.5.0",
          "state": {
            "_dom_classes": [],
            "_model_module": "@jupyter-widgets/controls",
            "_model_module_version": "1.5.0",
            "_model_name": "LabelModel",
            "_view_count": null,
            "_view_module": "@jupyter-widgets/controls",
            "_view_module_version": "1.5.0",
            "_view_name": "LabelView",
            "description": "",
            "description_tooltip": null,
            "layout": "IPY_MODEL_ef2571b67f9f4e008b438c6b5783bd57",
            "placeholder": "​",
            "style": "IPY_MODEL_908cff68f66c462b9f64cf349bb7735e",
            "value": "El valor medio de la medición 3 es: 8.007429757937949"
          }
        },
        "ef2571b67f9f4e008b438c6b5783bd57": {
          "model_module": "@jupyter-widgets/base",
          "model_name": "LayoutModel",
          "model_module_version": "1.2.0",
          "state": {
            "_model_module": "@jupyter-widgets/base",
            "_model_module_version": "1.2.0",
            "_model_name": "LayoutModel",
            "_view_count": null,
            "_view_module": "@jupyter-widgets/base",
            "_view_module_version": "1.2.0",
            "_view_name": "LayoutView",
            "align_content": null,
            "align_items": null,
            "align_self": null,
            "border": null,
            "bottom": null,
            "display": null,
            "flex": null,
            "flex_flow": null,
            "grid_area": null,
            "grid_auto_columns": null,
            "grid_auto_flow": null,
            "grid_auto_rows": null,
            "grid_column": null,
            "grid_gap": null,
            "grid_row": null,
            "grid_template_areas": null,
            "grid_template_columns": null,
            "grid_template_rows": null,
            "height": null,
            "justify_content": null,
            "justify_items": null,
            "left": null,
            "margin": null,
            "max_height": null,
            "max_width": null,
            "min_height": null,
            "min_width": null,
            "object_fit": null,
            "object_position": null,
            "order": null,
            "overflow": null,
            "overflow_x": null,
            "overflow_y": null,
            "padding": null,
            "right": null,
            "top": null,
            "visibility": null,
            "width": null
          }
        },
        "908cff68f66c462b9f64cf349bb7735e": {
          "model_module": "@jupyter-widgets/controls",
          "model_name": "DescriptionStyleModel",
          "model_module_version": "1.5.0",
          "state": {
            "_model_module": "@jupyter-widgets/controls",
            "_model_module_version": "1.5.0",
            "_model_name": "DescriptionStyleModel",
            "_view_count": null,
            "_view_module": "@jupyter-widgets/base",
            "_view_module_version": "1.2.0",
            "_view_name": "StyleView",
            "description_width": ""
          }
        },
        "49d8cd76f477435483b639da5f5e76f0": {
          "model_module": "@jupyter-widgets/controls",
          "model_name": "LabelModel",
          "model_module_version": "1.5.0",
          "state": {
            "_dom_classes": [],
            "_model_module": "@jupyter-widgets/controls",
            "_model_module_version": "1.5.0",
            "_model_name": "LabelModel",
            "_view_count": null,
            "_view_module": "@jupyter-widgets/controls",
            "_view_module_version": "1.5.0",
            "_view_name": "LabelView",
            "description": "",
            "description_tooltip": null,
            "layout": "IPY_MODEL_4a098b9c105d4960a3f54bb9865a0327",
            "placeholder": "​",
            "style": "IPY_MODEL_a209a716ad504eaaa4b5db20b2b2ece8",
            "value": "Incertidumbre tipo a (Ua) es: 1.2039946040750028e-06"
          }
        },
        "4a098b9c105d4960a3f54bb9865a0327": {
          "model_module": "@jupyter-widgets/base",
          "model_name": "LayoutModel",
          "model_module_version": "1.2.0",
          "state": {
            "_model_module": "@jupyter-widgets/base",
            "_model_module_version": "1.2.0",
            "_model_name": "LayoutModel",
            "_view_count": null,
            "_view_module": "@jupyter-widgets/base",
            "_view_module_version": "1.2.0",
            "_view_name": "LayoutView",
            "align_content": null,
            "align_items": null,
            "align_self": null,
            "border": null,
            "bottom": null,
            "display": null,
            "flex": null,
            "flex_flow": null,
            "grid_area": null,
            "grid_auto_columns": null,
            "grid_auto_flow": null,
            "grid_auto_rows": null,
            "grid_column": null,
            "grid_gap": null,
            "grid_row": null,
            "grid_template_areas": null,
            "grid_template_columns": null,
            "grid_template_rows": null,
            "height": null,
            "justify_content": null,
            "justify_items": null,
            "left": null,
            "margin": null,
            "max_height": null,
            "max_width": null,
            "min_height": null,
            "min_width": null,
            "object_fit": null,
            "object_position": null,
            "order": null,
            "overflow": null,
            "overflow_x": null,
            "overflow_y": null,
            "padding": null,
            "right": null,
            "top": null,
            "visibility": null,
            "width": null
          }
        },
        "a209a716ad504eaaa4b5db20b2b2ece8": {
          "model_module": "@jupyter-widgets/controls",
          "model_name": "DescriptionStyleModel",
          "model_module_version": "1.5.0",
          "state": {
            "_model_module": "@jupyter-widgets/controls",
            "_model_module_version": "1.5.0",
            "_model_name": "DescriptionStyleModel",
            "_view_count": null,
            "_view_module": "@jupyter-widgets/base",
            "_view_module_version": "1.2.0",
            "_view_name": "StyleView",
            "description_width": ""
          }
        },
        "03efcf04ac5143c3948e8977a983bd6e": {
          "model_module": "@jupyter-widgets/controls",
          "model_name": "LabelModel",
          "model_module_version": "1.5.0",
          "state": {
            "_dom_classes": [],
            "_model_module": "@jupyter-widgets/controls",
            "_model_module_version": "1.5.0",
            "_model_name": "LabelModel",
            "_view_count": null,
            "_view_module": "@jupyter-widgets/controls",
            "_view_module_version": "1.5.0",
            "_view_name": "LabelView",
            "description": "",
            "description_tooltip": null,
            "layout": "IPY_MODEL_f333c0397322440882755c99085f9a86",
            "placeholder": "​",
            "style": "IPY_MODEL_100434e73fd44dc2accbccd17d386831",
            "value": "La Temperatura media (T): 20.607542439661238"
          }
        },
        "f333c0397322440882755c99085f9a86": {
          "model_module": "@jupyter-widgets/base",
          "model_name": "LayoutModel",
          "model_module_version": "1.2.0",
          "state": {
            "_model_module": "@jupyter-widgets/base",
            "_model_module_version": "1.2.0",
            "_model_name": "LayoutModel",
            "_view_count": null,
            "_view_module": "@jupyter-widgets/base",
            "_view_module_version": "1.2.0",
            "_view_name": "LayoutView",
            "align_content": null,
            "align_items": null,
            "align_self": null,
            "border": null,
            "bottom": null,
            "display": null,
            "flex": null,
            "flex_flow": null,
            "grid_area": null,
            "grid_auto_columns": null,
            "grid_auto_flow": null,
            "grid_auto_rows": null,
            "grid_column": null,
            "grid_gap": null,
            "grid_row": null,
            "grid_template_areas": null,
            "grid_template_columns": null,
            "grid_template_rows": null,
            "height": null,
            "justify_content": null,
            "justify_items": null,
            "left": null,
            "margin": null,
            "max_height": null,
            "max_width": null,
            "min_height": null,
            "min_width": null,
            "object_fit": null,
            "object_position": null,
            "order": null,
            "overflow": null,
            "overflow_x": null,
            "overflow_y": null,
            "padding": null,
            "right": null,
            "top": null,
            "visibility": null,
            "width": null
          }
        },
        "100434e73fd44dc2accbccd17d386831": {
          "model_module": "@jupyter-widgets/controls",
          "model_name": "DescriptionStyleModel",
          "model_module_version": "1.5.0",
          "state": {
            "_model_module": "@jupyter-widgets/controls",
            "_model_module_version": "1.5.0",
            "_model_name": "DescriptionStyleModel",
            "_view_count": null,
            "_view_module": "@jupyter-widgets/base",
            "_view_module_version": "1.2.0",
            "_view_name": "StyleView",
            "description_width": ""
          }
        }
      }
    }
  },
  "nbformat": 4,
  "nbformat_minor": 0
}