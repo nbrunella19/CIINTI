{
  "cells": [
    {
      "cell_type": "markdown",
      "metadata": {
        "id": "view-in-github",
        "colab_type": "text"
      },
      "source": [
        "<a href=\"https://colab.research.google.com/github/nbrunella19/CIINTI/blob/main/CIINTI.ipynb\" target=\"_parent\"><img src=\"https://colab.research.google.com/assets/colab-badge.svg\" alt=\"Open In Colab\"/></a>"
      ]
    },
    {
      "cell_type": "markdown",
      "source": [
        "# Librerias"
      ],
      "metadata": {
        "id": "bdKmSv-HHQTM"
      }
    },
    {
      "cell_type": "code",
      "source": [
        "import io\n",
        "import glob\n",
        "import os\n",
        "import sys                                                                # to indicate errors and exceptions\n",
        "import re\n",
        "import traceback\n",
        "import numpy as np\n",
        "import pandas as pd\n",
        "import ipywidgets as widgets\n",
        "import matplotlib.pyplot as plt\n",
        "from google.colab import files\n",
        "from IPython.display import FileLink\n",
        "from IPython.display import display\n",
        "from IPython.display import clear_output\n"
      ],
      "metadata": {
        "id": "YyivHyslHX8v"
      },
      "execution_count": 30,
      "outputs": []
    },
    {
      "cell_type": "markdown",
      "source": [
        "# Funciones\n"
      ],
      "metadata": {
        "id": "Tt7SeMDYM_L_"
      }
    },
    {
      "cell_type": "code",
      "source": [
        "# Función para seleccionar un archivo\n",
        "def seleccionar_archivo():\n",
        "    # Muestra un cuadro de diálogo para cargar un archivo\n",
        "    uploaded = files.upload()\n",
        "\n",
        "    # Obtiene la ruta del archivo cargado\n",
        "    ruta_al_archivo = list(uploaded.keys())[0]\n",
        "\n",
        "    # Crea un enlace para abrir el archivo\n",
        "    file_path_i = FileLink(ruta_al_archivo)\n",
        "    # Muestra el enlace\n",
        "    # display(file_path_i)\n",
        "    return (file_path_i)\n",
        "\n",
        "# Llama a la función para seleccionar un archivo\n",
        "#file_path= str(seleccionar_archivo())\n",
        "\n",
        "#file_path"
      ],
      "metadata": {
        "id": "HwZCW2X-Jpy-"
      },
      "execution_count": 31,
      "outputs": []
    },
    {
      "cell_type": "code",
      "source": [
        "def openFile(path2file):\n",
        "    '''\n",
        "    openFile\n",
        "    ___________________\n",
        "    open the file, returns a list of the lines of path2file.\n",
        "    It is assumed that path2file is a .mea file (text based)\n",
        "    out = lines of file (strings)\n",
        "    input= path\n",
        "    '''\n",
        "    try:\n",
        "        with open(path2file, mode='r') as f:  # to ensure it closes correclty\n",
        "            lines = f.readlines()\n",
        "            return lines\n",
        "    except Exception as exception:\n",
        "        print(\"There was a problem opening {}\".format(path2file))\n",
        "        print(exception)\n",
        "        raise\n",
        "\n",
        "def read_mea_file(lines_of_mea_file, ln_preface = 81):\n",
        "    '''\n",
        "    The function reads and arrange the data list of the file called by openFile.\n",
        "    Inputs:\n",
        "        lines_of_mea_file: list of str lines read by openFile()\n",
        "        ln_preface(optional, default=  81): number of lines in the preface of the measurments file. They appear in all sets of measurements.\n",
        "    Outputs:\n",
        "        qlistInit: list containing the set measurement prefaces, eg. qlistInit[2]= preface of measurement 3\n",
        "        qlist: list containing the set measurements, eg. qlist[2]= measurement set number 3\n",
        "        qlistFinal: list containing the result resume of the measurement set, eg. qlistFinal[2]= resume of measurement set 3\n",
        "    To process it is preferable to have all measurements together in the same file.\n",
        "    Note that it doesn´t matter if the measurements have differet number of points.\n",
        "    '''\n",
        "    chunks = []\n",
        "    qlist = []\n",
        "    chunksInit =[]\n",
        "    qlistInit = []\n",
        "    chunksFinal = []\n",
        "    qlistFinal = []\n",
        "    nn = 0\n",
        "    counter = 0\n",
        "    ii = 0\n",
        "    for line in lines_of_mea_file:\n",
        "        if (nn>ln_preface and line != '\\n' and ii == 0):\n",
        "            chunks.append(line)\n",
        "            nn += 1\n",
        "        elif (nn<ln_preface):\n",
        "            chunksInit.append(line)\n",
        "            nn +=1\n",
        "        elif (nn>ln_preface and line == '\\n'):\n",
        "            ii = 1\n",
        "            nn += 1\n",
        "        elif (nn>ln_preface and ii == 1 and line != '***\\n'):\n",
        "            chunksFinal.append(line)\n",
        "            nn += 1\n",
        "        elif (line =='***\\n'):\n",
        "            ii = 0\n",
        "            counter += 1\n",
        "            nn = 0\n",
        "            qlist.append(chunks)\n",
        "            qlistInit.append(chunksInit)\n",
        "            qlistFinal.append(chunksFinal)\n",
        "            chunks = []\n",
        "            chunksInit = []\n",
        "            chunksFinal = []\n",
        "        else:\n",
        "            nn += 1\n",
        "    return qlistInit, qlist, qlistFinal,counter"
      ],
      "metadata": {
        "id": "qhefhGC0J7At"
      },
      "execution_count": 32,
      "outputs": []
    },
    {
      "cell_type": "code",
      "source": [
        "def openFile_T(path2file):\n",
        "    '''\n",
        "    openFile\n",
        "    ___________________\n",
        "    open the file, returns a list of the lines of path2file.\n",
        "    It is assumed that path2file is a .dat file (text based)\n",
        "    out = lines of file (strings)\n",
        "    input= path\n",
        "    '''\n",
        "    try:\n",
        "        with open(path2file, mode='r', encoding='utf-8', errors='ignore') as g:  # to ensure it closes correclty\n",
        "            lines = g.readlines()\n",
        "            return lines\n",
        "    except Exception as exception:\n",
        "        print(\"There was a problem opening {}\".format(path2file))\n",
        "        print(exception)\n",
        "        raise"
      ],
      "metadata": {
        "id": "6X6vN3z8KTpd"
      },
      "execution_count": 33,
      "outputs": []
    },
    {
      "cell_type": "markdown",
      "source": [
        "# Carga de archivos"
      ],
      "metadata": {
        "id": "0AlPDlTuIHF6"
      }
    },
    {
      "cell_type": "code",
      "source": [
        "file_path= str(seleccionar_archivo())"
      ],
      "metadata": {
        "id": "lihL0LNsKGMU"
      },
      "execution_count": null,
      "outputs": []
    },
    {
      "cell_type": "code",
      "source": [
        "file_path_t= str(seleccionar_archivo())"
      ],
      "metadata": {
        "id": "8jYwV5oYLwaX"
      },
      "execution_count": null,
      "outputs": []
    },
    {
      "cell_type": "markdown",
      "source": [
        "# Análisis de archivo de medición de resistencia"
      ],
      "metadata": {
        "id": "Rryf_0UpKn5U"
      }
    },
    {
      "cell_type": "code",
      "execution_count": 35,
      "metadata": {
        "id": "kVwFJZYQAH4b"
      },
      "outputs": [],
      "source": [
        "lineas = openFile(file_path)\n",
        "qlistInit, qlist, qlistFinal,counter= read_mea_file(lineas, ln_preface = 81)\n",
        "\n",
        "#lineas"
      ]
    },
    {
      "cell_type": "code",
      "execution_count": 36,
      "metadata": {
        "id": "Jr4iLDVmQqEx"
      },
      "outputs": [],
      "source": [
        "#import pandas as pd\n",
        "e = 20\n",
        "def create_df_from_list(qlist, n):\n",
        "    '''\n",
        "    Create a DataFrame from a list that coming from the .txt\n",
        "    '''\n",
        "    df_aux = pd.DataFrame([sub.split(';') for sub in qlist[n]])\n",
        "    df = df_aux.tail(e)                                               # Recorta la lista a un N° \"e\" (proximamente programable por el usuario)\n",
        "    df.columns = ['Ratio', 'Measure', 'Time']\n",
        "    return df"
      ]
    },
    {
      "cell_type": "code",
      "execution_count": 37,
      "metadata": {
        "id": "ROk8QY_tQyX8"
      },
      "outputs": [],
      "source": [
        "\n",
        "df_m = [create_df_from_list(qlist, i) for i in range(counter)]      # I Create a list of DataFrame\n",
        "\n",
        "for i in range(counter):\n",
        "    df_m[i]['Time'] = df_m[i]['Time'].str.strip()                      # Le saca el '\\n'\n",
        "\n",
        "#df_m\n"
      ]
    },
    {
      "cell_type": "code",
      "execution_count": 38,
      "metadata": {
        "id": "xqI9rjNejqnf"
      },
      "outputs": [],
      "source": [
        "#Acá tengo una lista de los parámetros de las mediciones\n",
        "#Listado de corrientes\n",
        "iList=[0]*counter\n",
        "#Listado de patrones\n",
        "RsList=[0]*counter\n",
        "#Listado de Mesurandos\n",
        "RxList=[0]*counter\n",
        "\n",
        "for i in range(counter):\n",
        "  iList[i]= qlistInit[i][22].strip()\n",
        "  RsList[i]= qlistInit[i][33].strip()\n",
        "  RxList[i]= qlistInit[i][57].strip()\n",
        "\n",
        "#iList,RsList,RxList\n",
        "\n"
      ]
    },
    {
      "cell_type": "code",
      "execution_count": 39,
      "metadata": {
        "id": "b5gyvz-zW1kZ"
      },
      "outputs": [],
      "source": [
        "def counter_different_values(lista):\n",
        "    '''\n",
        "    Accounts for different types of measurement current\n",
        "    '''\n",
        "    different_values = set(lista)\n",
        "    different_quantity = len(different_values)\n",
        "    return different_quantity\n",
        "\n",
        "resume = counter_different_values(iList)\n",
        "\n",
        "#resume"
      ]
    },
    {
      "cell_type": "code",
      "execution_count": 40,
      "metadata": {
        "id": "pmgMXhJMhdcZ"
      },
      "outputs": [],
      "source": [
        "from datetime import datetime, timedelta\n",
        "\n",
        "def h_to_seg(h_str):\n",
        "    '''\n",
        "    Convert time string to seconds\n",
        "    '''\n",
        "    # Intentar formato de 24 horas\n",
        "    try:\n",
        "        time_obj = datetime.strptime(h_str, '%H:%M:%S')\n",
        "    except ValueError:\n",
        "        # Si falla, intentar formato de 12 horas\n",
        "        time_obj = datetime.strptime(h_str, '%I:%M:%S %p')\n",
        "\n",
        "    seconds = time_obj.second + time_obj.minute * 60 + time_obj.hour * 3600\n",
        "    return seconds"
      ]
    },
    {
      "cell_type": "code",
      "execution_count": 41,
      "metadata": {
        "id": "BDwadNk0C_Ly"
      },
      "outputs": [],
      "source": [
        "measure_f=[]  #Lista de mediciones en formato float\n",
        "tList_h=[]    #Lista de hora en formato \"H\":\"M\":\"S\"\n",
        "tList_s=[]    #Lista de hora en formato segundos\n",
        "\n",
        "\n",
        "for i in range(counter):\n",
        "      # Genero un listado de listas del tipo float\n",
        "      measure_f.append([float(numero) for numero in df_m[i][\"Measure\"]])\n",
        "      # Genero un listado del tipo HMS para poder convertirlo a segundos\n",
        "      tList_h.append(df_m[i][\"Time\"].tolist())\n",
        "      tList_s_aux = [h_to_seg(hora) for hora in tList_h[i]]\n",
        "      tList_s.append(tList_s_aux)\n",
        "\n",
        "#tList_h, tList_s\n",
        "\n"
      ]
    },
    {
      "cell_type": "markdown",
      "source": [
        "# Análisis de archivo de medición de temperatura"
      ],
      "metadata": {
        "id": "eaSAICqZMnlI"
      }
    },
    {
      "cell_type": "code",
      "source": [
        "lineas_t = openFile_T(file_path_t)\n",
        "\n",
        "lineas_t"
      ],
      "metadata": {
        "id": "M6gNgY3YLn_f"
      },
      "execution_count": null,
      "outputs": []
    },
    {
      "cell_type": "markdown",
      "source": [
        "# Entorno gráfico"
      ],
      "metadata": {
        "id": "580e6MlmKxUk"
      }
    },
    {
      "cell_type": "code",
      "execution_count": 42,
      "metadata": {
        "id": "1_Zm-EhoI5d0",
        "colab": {
          "base_uri": "https://localhost:8080/",
          "height": 151,
          "referenced_widgets": [
            "4f430e8595804c8f9a15f1bcd143740a",
            "01cab8b3425a45ff88da66612eea4b2a",
            "2f15a771bd5646df985500537bb8cc77",
            "fe1cc35b27c74a8187008598362d55f2",
            "85d7b801bf7f44f7a9aca236e60133a0",
            "7d64affa3cec424993c3665e6f70dba1",
            "d9198ce9f1b1402eb7f0568193343e88",
            "76e3170808214d7da058a2531885bde3",
            "30e2a002e6c84942b3ebdb1a58bb8b5c",
            "4df9dfbe429a40f8b2c436158f775ff9",
            "864c9553764449068c3c3ac2ee9bbf0b",
            "edda4ec456a8461eb85eda7c0d8366bf",
            "6bcd9fffd0e54532af353a6e6c3302de",
            "fdcb77b5d3244315bd696bda1161fcdc",
            "537601f24d4b40acb9ec239bb292ddb9",
            "423444b78ca04132a77ecacc487bc056",
            "daf93c6394b044e88f5c314a5b0c4c8b",
            "24b93808e6b94b1cbdeac0087cfc21b2"
          ]
        },
        "outputId": "e9d31d4c-5090-49a3-f9cb-4f76e64acf5a"
      },
      "outputs": [
        {
          "output_type": "display_data",
          "data": {
            "text/plain": [
              "Dropdown(description='Medición:', index=11, options=('Medición 1', 'Medición 2', 'Medición 3', 'Medición 4', '…"
            ],
            "application/vnd.jupyter.widget-view+json": {
              "version_major": 2,
              "version_minor": 0,
              "model_id": "4f430e8595804c8f9a15f1bcd143740a"
            }
          },
          "metadata": {}
        },
        {
          "output_type": "display_data",
          "data": {
            "text/plain": [
              "Button(description='Calcular', style=ButtonStyle())"
            ],
            "application/vnd.jupyter.widget-view+json": {
              "version_major": 2,
              "version_minor": 0,
              "model_id": "fe1cc35b27c74a8187008598362d55f2"
            }
          },
          "metadata": {}
        },
        {
          "output_type": "display_data",
          "data": {
            "text/plain": [
              "Button(description='Limpiar', style=ButtonStyle())"
            ],
            "application/vnd.jupyter.widget-view+json": {
              "version_major": 2,
              "version_minor": 0,
              "model_id": "d9198ce9f1b1402eb7f0568193343e88"
            }
          },
          "metadata": {}
        },
        {
          "output_type": "display_data",
          "data": {
            "text/plain": [
              "Button(description='Ver Gráfico', style=ButtonStyle())"
            ],
            "application/vnd.jupyter.widget-view+json": {
              "version_major": 2,
              "version_minor": 0,
              "model_id": "4df9dfbe429a40f8b2c436158f775ff9"
            }
          },
          "metadata": {}
        },
        {
          "output_type": "display_data",
          "data": {
            "text/plain": [
              "Label(value='')"
            ],
            "application/vnd.jupyter.widget-view+json": {
              "version_major": 2,
              "version_minor": 0,
              "model_id": "6bcd9fffd0e54532af353a6e6c3302de"
            }
          },
          "metadata": {}
        },
        {
          "output_type": "display_data",
          "data": {
            "text/plain": [
              "Label(value='')"
            ],
            "application/vnd.jupyter.widget-view+json": {
              "version_major": 2,
              "version_minor": 0,
              "model_id": "423444b78ca04132a77ecacc487bc056"
            }
          },
          "metadata": {}
        }
      ],
      "source": [
        "\n",
        "\n",
        "############################################ Opciones para el menú desplegable ############################################################\n",
        "index=0\n",
        "counter_m = []\n",
        "for i in range(counter):\n",
        "  counter_m.append(\"Medición \"+str(i+1))\n",
        "counter_mv = {opcion: i + 1 for i, opcion in enumerate(counter_m)}\n",
        "\n",
        "def handle_dropdown_change(change):\n",
        "    global index\n",
        "    opcion_seleccionada = change.new\n",
        "    index = counter_mv[opcion_seleccionada]-1\n",
        "    print(f\"Opción seleccionada: {opcion_seleccionada}\")\n",
        "    display(df_m[index])\n",
        "                                           # Crear el menú desplegable\n",
        "menu_desplegable = widgets.Dropdown(\n",
        "    options=counter_m,\n",
        "    value=counter_m[0],  # Valor predeterminado seleccionado\n",
        "    description='Medición:')\n",
        "\n",
        "############################################################################################################################################\n",
        "################################################# Funciones para Botones  ##################################################################\n",
        "def on_button1_click(b):\n",
        "    sd=np.std(measure_f[index])    # sd es el desvío estándar (standard deviation )\n",
        "    am=np.mean(measure_f[index])   # am es el valor promedio medido (average measure)\n",
        "    output_text1.value = \"El valor medio de la medición \"+str(index+1)+\" es: \"+str(am)\n",
        "    output_text2.value = \"La incertidumbre de la medición \"+str(index+1)+\" es: \"+str(sd)\n",
        "\n",
        "\n",
        "def on_button2_click(b):\n",
        "    output_text1.value = ''\n",
        "    output_text2.value = ''\n",
        "    clear_output()\n",
        "    show_menu()\n",
        "\n",
        "\n",
        "\n",
        "def on_button3_click(b):\n",
        "    global index\n",
        "    t_x = tList_h[index]\n",
        "    r_y = measure_f[index]\n",
        "    r_y_array = np.array(r_y, dtype=float)\n",
        "    r_y_array = r_y_array - r_y_array.mean()\n",
        "    plt.figure(figsize=(15,6))\n",
        "    plt.xticks(rotation=45)\n",
        "    display(plt.plot(t_x, r_y_array))\n",
        "\n",
        "def show_menu():\n",
        "    display(menu_desplegable)\n",
        "    display(button1)\n",
        "    display(button2)\n",
        "    display(button3)\n",
        "    display(output_text1)\n",
        "    display(output_text2)\n",
        "\n",
        "\n",
        "############################################################################################################################################\n",
        "\n",
        "# Crear widgets\n",
        "output_text1 = widgets.Label(value='')\n",
        "output_text2 = widgets.Label(value='')\n",
        "\n",
        "\n",
        "button1 = widgets.Button(description=\"Calcular\")\n",
        "button2 = widgets.Button(description=\"Limpiar\")\n",
        "button3 = widgets.Button(description=\"Ver Gráfico\")\n",
        "\n",
        "# Configurar la función a llamar cuando se hace clic en el botón\n",
        "button1.on_click(on_button1_click)\n",
        "button2.on_click(on_button2_click)\n",
        "button3.on_click(on_button3_click)\n",
        "# Conectar la función al evento de cambio en el menú desplegable\n",
        "menu_desplegable.observe(handle_dropdown_change, names='value')\n",
        "\n",
        "# Mostrar los widgets\n",
        "\n",
        "show_menu()\n",
        "\n",
        "\n"
      ]
    },
    {
      "cell_type": "code",
      "source": [],
      "metadata": {
        "id": "IfxoCY--HJlF"
      },
      "execution_count": null,
      "outputs": []
    },
    {
      "cell_type": "code",
      "source": [
        "\n",
        "\n",
        "\n"
      ],
      "metadata": {
        "id": "xGJ2XlMvSwl4"
      },
      "execution_count": 24,
      "outputs": []
    }
  ],
  "metadata": {
    "colab": {
      "provenance": [],
      "include_colab_link": true
    },
    "kernelspec": {
      "display_name": "Python 3",
      "name": "python3"
    },
    "language_info": {
      "name": "python"
    },
    "widgets": {
      "application/vnd.jupyter.widget-state+json": {
        "4f430e8595804c8f9a15f1bcd143740a": {
          "model_module": "@jupyter-widgets/controls",
          "model_name": "DropdownModel",
          "model_module_version": "1.5.0",
          "state": {
            "_dom_classes": [],
            "_model_module": "@jupyter-widgets/controls",
            "_model_module_version": "1.5.0",
            "_model_name": "DropdownModel",
            "_options_labels": [
              "Medición 1",
              "Medición 2",
              "Medición 3",
              "Medición 4",
              "Medición 5",
              "Medición 6",
              "Medición 7",
              "Medición 8",
              "Medición 9",
              "Medición 10",
              "Medición 11",
              "Medición 12"
            ],
            "_view_count": null,
            "_view_module": "@jupyter-widgets/controls",
            "_view_module_version": "1.5.0",
            "_view_name": "DropdownView",
            "description": "Medición:",
            "description_tooltip": null,
            "disabled": false,
            "index": 11,
            "layout": "IPY_MODEL_01cab8b3425a45ff88da66612eea4b2a",
            "style": "IPY_MODEL_2f15a771bd5646df985500537bb8cc77"
          }
        },
        "01cab8b3425a45ff88da66612eea4b2a": {
          "model_module": "@jupyter-widgets/base",
          "model_name": "LayoutModel",
          "model_module_version": "1.2.0",
          "state": {
            "_model_module": "@jupyter-widgets/base",
            "_model_module_version": "1.2.0",
            "_model_name": "LayoutModel",
            "_view_count": null,
            "_view_module": "@jupyter-widgets/base",
            "_view_module_version": "1.2.0",
            "_view_name": "LayoutView",
            "align_content": null,
            "align_items": null,
            "align_self": null,
            "border": null,
            "bottom": null,
            "display": null,
            "flex": null,
            "flex_flow": null,
            "grid_area": null,
            "grid_auto_columns": null,
            "grid_auto_flow": null,
            "grid_auto_rows": null,
            "grid_column": null,
            "grid_gap": null,
            "grid_row": null,
            "grid_template_areas": null,
            "grid_template_columns": null,
            "grid_template_rows": null,
            "height": null,
            "justify_content": null,
            "justify_items": null,
            "left": null,
            "margin": null,
            "max_height": null,
            "max_width": null,
            "min_height": null,
            "min_width": null,
            "object_fit": null,
            "object_position": null,
            "order": null,
            "overflow": null,
            "overflow_x": null,
            "overflow_y": null,
            "padding": null,
            "right": null,
            "top": null,
            "visibility": null,
            "width": null
          }
        },
        "2f15a771bd5646df985500537bb8cc77": {
          "model_module": "@jupyter-widgets/controls",
          "model_name": "DescriptionStyleModel",
          "model_module_version": "1.5.0",
          "state": {
            "_model_module": "@jupyter-widgets/controls",
            "_model_module_version": "1.5.0",
            "_model_name": "DescriptionStyleModel",
            "_view_count": null,
            "_view_module": "@jupyter-widgets/base",
            "_view_module_version": "1.2.0",
            "_view_name": "StyleView",
            "description_width": ""
          }
        },
        "fe1cc35b27c74a8187008598362d55f2": {
          "model_module": "@jupyter-widgets/controls",
          "model_name": "ButtonModel",
          "model_module_version": "1.5.0",
          "state": {
            "_dom_classes": [],
            "_model_module": "@jupyter-widgets/controls",
            "_model_module_version": "1.5.0",
            "_model_name": "ButtonModel",
            "_view_count": null,
            "_view_module": "@jupyter-widgets/controls",
            "_view_module_version": "1.5.0",
            "_view_name": "ButtonView",
            "button_style": "",
            "description": "Calcular",
            "disabled": false,
            "icon": "",
            "layout": "IPY_MODEL_85d7b801bf7f44f7a9aca236e60133a0",
            "style": "IPY_MODEL_7d64affa3cec424993c3665e6f70dba1",
            "tooltip": ""
          }
        },
        "85d7b801bf7f44f7a9aca236e60133a0": {
          "model_module": "@jupyter-widgets/base",
          "model_name": "LayoutModel",
          "model_module_version": "1.2.0",
          "state": {
            "_model_module": "@jupyter-widgets/base",
            "_model_module_version": "1.2.0",
            "_model_name": "LayoutModel",
            "_view_count": null,
            "_view_module": "@jupyter-widgets/base",
            "_view_module_version": "1.2.0",
            "_view_name": "LayoutView",
            "align_content": null,
            "align_items": null,
            "align_self": null,
            "border": null,
            "bottom": null,
            "display": null,
            "flex": null,
            "flex_flow": null,
            "grid_area": null,
            "grid_auto_columns": null,
            "grid_auto_flow": null,
            "grid_auto_rows": null,
            "grid_column": null,
            "grid_gap": null,
            "grid_row": null,
            "grid_template_areas": null,
            "grid_template_columns": null,
            "grid_template_rows": null,
            "height": null,
            "justify_content": null,
            "justify_items": null,
            "left": null,
            "margin": null,
            "max_height": null,
            "max_width": null,
            "min_height": null,
            "min_width": null,
            "object_fit": null,
            "object_position": null,
            "order": null,
            "overflow": null,
            "overflow_x": null,
            "overflow_y": null,
            "padding": null,
            "right": null,
            "top": null,
            "visibility": null,
            "width": null
          }
        },
        "7d64affa3cec424993c3665e6f70dba1": {
          "model_module": "@jupyter-widgets/controls",
          "model_name": "ButtonStyleModel",
          "model_module_version": "1.5.0",
          "state": {
            "_model_module": "@jupyter-widgets/controls",
            "_model_module_version": "1.5.0",
            "_model_name": "ButtonStyleModel",
            "_view_count": null,
            "_view_module": "@jupyter-widgets/base",
            "_view_module_version": "1.2.0",
            "_view_name": "StyleView",
            "button_color": null,
            "font_weight": ""
          }
        },
        "d9198ce9f1b1402eb7f0568193343e88": {
          "model_module": "@jupyter-widgets/controls",
          "model_name": "ButtonModel",
          "model_module_version": "1.5.0",
          "state": {
            "_dom_classes": [],
            "_model_module": "@jupyter-widgets/controls",
            "_model_module_version": "1.5.0",
            "_model_name": "ButtonModel",
            "_view_count": null,
            "_view_module": "@jupyter-widgets/controls",
            "_view_module_version": "1.5.0",
            "_view_name": "ButtonView",
            "button_style": "",
            "description": "Limpiar",
            "disabled": false,
            "icon": "",
            "layout": "IPY_MODEL_76e3170808214d7da058a2531885bde3",
            "style": "IPY_MODEL_30e2a002e6c84942b3ebdb1a58bb8b5c",
            "tooltip": ""
          }
        },
        "76e3170808214d7da058a2531885bde3": {
          "model_module": "@jupyter-widgets/base",
          "model_name": "LayoutModel",
          "model_module_version": "1.2.0",
          "state": {
            "_model_module": "@jupyter-widgets/base",
            "_model_module_version": "1.2.0",
            "_model_name": "LayoutModel",
            "_view_count": null,
            "_view_module": "@jupyter-widgets/base",
            "_view_module_version": "1.2.0",
            "_view_name": "LayoutView",
            "align_content": null,
            "align_items": null,
            "align_self": null,
            "border": null,
            "bottom": null,
            "display": null,
            "flex": null,
            "flex_flow": null,
            "grid_area": null,
            "grid_auto_columns": null,
            "grid_auto_flow": null,
            "grid_auto_rows": null,
            "grid_column": null,
            "grid_gap": null,
            "grid_row": null,
            "grid_template_areas": null,
            "grid_template_columns": null,
            "grid_template_rows": null,
            "height": null,
            "justify_content": null,
            "justify_items": null,
            "left": null,
            "margin": null,
            "max_height": null,
            "max_width": null,
            "min_height": null,
            "min_width": null,
            "object_fit": null,
            "object_position": null,
            "order": null,
            "overflow": null,
            "overflow_x": null,
            "overflow_y": null,
            "padding": null,
            "right": null,
            "top": null,
            "visibility": null,
            "width": null
          }
        },
        "30e2a002e6c84942b3ebdb1a58bb8b5c": {
          "model_module": "@jupyter-widgets/controls",
          "model_name": "ButtonStyleModel",
          "model_module_version": "1.5.0",
          "state": {
            "_model_module": "@jupyter-widgets/controls",
            "_model_module_version": "1.5.0",
            "_model_name": "ButtonStyleModel",
            "_view_count": null,
            "_view_module": "@jupyter-widgets/base",
            "_view_module_version": "1.2.0",
            "_view_name": "StyleView",
            "button_color": null,
            "font_weight": ""
          }
        },
        "4df9dfbe429a40f8b2c436158f775ff9": {
          "model_module": "@jupyter-widgets/controls",
          "model_name": "ButtonModel",
          "model_module_version": "1.5.0",
          "state": {
            "_dom_classes": [],
            "_model_module": "@jupyter-widgets/controls",
            "_model_module_version": "1.5.0",
            "_model_name": "ButtonModel",
            "_view_count": null,
            "_view_module": "@jupyter-widgets/controls",
            "_view_module_version": "1.5.0",
            "_view_name": "ButtonView",
            "button_style": "",
            "description": "Ver Gráfico",
            "disabled": false,
            "icon": "",
            "layout": "IPY_MODEL_864c9553764449068c3c3ac2ee9bbf0b",
            "style": "IPY_MODEL_edda4ec456a8461eb85eda7c0d8366bf",
            "tooltip": ""
          }
        },
        "864c9553764449068c3c3ac2ee9bbf0b": {
          "model_module": "@jupyter-widgets/base",
          "model_name": "LayoutModel",
          "model_module_version": "1.2.0",
          "state": {
            "_model_module": "@jupyter-widgets/base",
            "_model_module_version": "1.2.0",
            "_model_name": "LayoutModel",
            "_view_count": null,
            "_view_module": "@jupyter-widgets/base",
            "_view_module_version": "1.2.0",
            "_view_name": "LayoutView",
            "align_content": null,
            "align_items": null,
            "align_self": null,
            "border": null,
            "bottom": null,
            "display": null,
            "flex": null,
            "flex_flow": null,
            "grid_area": null,
            "grid_auto_columns": null,
            "grid_auto_flow": null,
            "grid_auto_rows": null,
            "grid_column": null,
            "grid_gap": null,
            "grid_row": null,
            "grid_template_areas": null,
            "grid_template_columns": null,
            "grid_template_rows": null,
            "height": null,
            "justify_content": null,
            "justify_items": null,
            "left": null,
            "margin": null,
            "max_height": null,
            "max_width": null,
            "min_height": null,
            "min_width": null,
            "object_fit": null,
            "object_position": null,
            "order": null,
            "overflow": null,
            "overflow_x": null,
            "overflow_y": null,
            "padding": null,
            "right": null,
            "top": null,
            "visibility": null,
            "width": null
          }
        },
        "edda4ec456a8461eb85eda7c0d8366bf": {
          "model_module": "@jupyter-widgets/controls",
          "model_name": "ButtonStyleModel",
          "model_module_version": "1.5.0",
          "state": {
            "_model_module": "@jupyter-widgets/controls",
            "_model_module_version": "1.5.0",
            "_model_name": "ButtonStyleModel",
            "_view_count": null,
            "_view_module": "@jupyter-widgets/base",
            "_view_module_version": "1.2.0",
            "_view_name": "StyleView",
            "button_color": null,
            "font_weight": ""
          }
        },
        "6bcd9fffd0e54532af353a6e6c3302de": {
          "model_module": "@jupyter-widgets/controls",
          "model_name": "LabelModel",
          "model_module_version": "1.5.0",
          "state": {
            "_dom_classes": [],
            "_model_module": "@jupyter-widgets/controls",
            "_model_module_version": "1.5.0",
            "_model_name": "LabelModel",
            "_view_count": null,
            "_view_module": "@jupyter-widgets/controls",
            "_view_module_version": "1.5.0",
            "_view_name": "LabelView",
            "description": "",
            "description_tooltip": null,
            "layout": "IPY_MODEL_fdcb77b5d3244315bd696bda1161fcdc",
            "placeholder": "​",
            "style": "IPY_MODEL_537601f24d4b40acb9ec239bb292ddb9",
            "value": ""
          }
        },
        "fdcb77b5d3244315bd696bda1161fcdc": {
          "model_module": "@jupyter-widgets/base",
          "model_name": "LayoutModel",
          "model_module_version": "1.2.0",
          "state": {
            "_model_module": "@jupyter-widgets/base",
            "_model_module_version": "1.2.0",
            "_model_name": "LayoutModel",
            "_view_count": null,
            "_view_module": "@jupyter-widgets/base",
            "_view_module_version": "1.2.0",
            "_view_name": "LayoutView",
            "align_content": null,
            "align_items": null,
            "align_self": null,
            "border": null,
            "bottom": null,
            "display": null,
            "flex": null,
            "flex_flow": null,
            "grid_area": null,
            "grid_auto_columns": null,
            "grid_auto_flow": null,
            "grid_auto_rows": null,
            "grid_column": null,
            "grid_gap": null,
            "grid_row": null,
            "grid_template_areas": null,
            "grid_template_columns": null,
            "grid_template_rows": null,
            "height": null,
            "justify_content": null,
            "justify_items": null,
            "left": null,
            "margin": null,
            "max_height": null,
            "max_width": null,
            "min_height": null,
            "min_width": null,
            "object_fit": null,
            "object_position": null,
            "order": null,
            "overflow": null,
            "overflow_x": null,
            "overflow_y": null,
            "padding": null,
            "right": null,
            "top": null,
            "visibility": null,
            "width": null
          }
        },
        "537601f24d4b40acb9ec239bb292ddb9": {
          "model_module": "@jupyter-widgets/controls",
          "model_name": "DescriptionStyleModel",
          "model_module_version": "1.5.0",
          "state": {
            "_model_module": "@jupyter-widgets/controls",
            "_model_module_version": "1.5.0",
            "_model_name": "DescriptionStyleModel",
            "_view_count": null,
            "_view_module": "@jupyter-widgets/base",
            "_view_module_version": "1.2.0",
            "_view_name": "StyleView",
            "description_width": ""
          }
        },
        "423444b78ca04132a77ecacc487bc056": {
          "model_module": "@jupyter-widgets/controls",
          "model_name": "LabelModel",
          "model_module_version": "1.5.0",
          "state": {
            "_dom_classes": [],
            "_model_module": "@jupyter-widgets/controls",
            "_model_module_version": "1.5.0",
            "_model_name": "LabelModel",
            "_view_count": null,
            "_view_module": "@jupyter-widgets/controls",
            "_view_module_version": "1.5.0",
            "_view_name": "LabelView",
            "description": "",
            "description_tooltip": null,
            "layout": "IPY_MODEL_daf93c6394b044e88f5c314a5b0c4c8b",
            "placeholder": "​",
            "style": "IPY_MODEL_24b93808e6b94b1cbdeac0087cfc21b2",
            "value": ""
          }
        },
        "daf93c6394b044e88f5c314a5b0c4c8b": {
          "model_module": "@jupyter-widgets/base",
          "model_name": "LayoutModel",
          "model_module_version": "1.2.0",
          "state": {
            "_model_module": "@jupyter-widgets/base",
            "_model_module_version": "1.2.0",
            "_model_name": "LayoutModel",
            "_view_count": null,
            "_view_module": "@jupyter-widgets/base",
            "_view_module_version": "1.2.0",
            "_view_name": "LayoutView",
            "align_content": null,
            "align_items": null,
            "align_self": null,
            "border": null,
            "bottom": null,
            "display": null,
            "flex": null,
            "flex_flow": null,
            "grid_area": null,
            "grid_auto_columns": null,
            "grid_auto_flow": null,
            "grid_auto_rows": null,
            "grid_column": null,
            "grid_gap": null,
            "grid_row": null,
            "grid_template_areas": null,
            "grid_template_columns": null,
            "grid_template_rows": null,
            "height": null,
            "justify_content": null,
            "justify_items": null,
            "left": null,
            "margin": null,
            "max_height": null,
            "max_width": null,
            "min_height": null,
            "min_width": null,
            "object_fit": null,
            "object_position": null,
            "order": null,
            "overflow": null,
            "overflow_x": null,
            "overflow_y": null,
            "padding": null,
            "right": null,
            "top": null,
            "visibility": null,
            "width": null
          }
        },
        "24b93808e6b94b1cbdeac0087cfc21b2": {
          "model_module": "@jupyter-widgets/controls",
          "model_name": "DescriptionStyleModel",
          "model_module_version": "1.5.0",
          "state": {
            "_model_module": "@jupyter-widgets/controls",
            "_model_module_version": "1.5.0",
            "_model_name": "DescriptionStyleModel",
            "_view_count": null,
            "_view_module": "@jupyter-widgets/base",
            "_view_module_version": "1.2.0",
            "_view_name": "StyleView",
            "description_width": ""
          }
        }
      }
    }
  },
  "nbformat": 4,
  "nbformat_minor": 0
}