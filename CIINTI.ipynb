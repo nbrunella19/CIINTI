{
  "cells": [
    {
      "cell_type": "markdown",
      "metadata": {
        "id": "view-in-github",
        "colab_type": "text"
      },
      "source": [
        "<a href=\"https://colab.research.google.com/github/nbrunella19/CIINTI/blob/main/CIINTI.ipynb\" target=\"_parent\"><img src=\"https://colab.research.google.com/assets/colab-badge.svg\" alt=\"Open In Colab\"/></a>"
      ]
    },
    {
      "cell_type": "markdown",
      "source": [
        "##<img src=\"https://upload.wikimedia.org/wikipedia/commons/thumb/0/05/INTI.svg/1200px-INTI.svg.png\" width=\"100\" alt=\"10\">\n",
        "Bienvenido a la aplicación de Análisis de medición de resistencia eléctrica del departamento de patrones cuánticos de INTI.\n",
        "\n",
        "La funcionalidad del software es tomar los archivos recibidos desde la aplicación del 6010D junto a las mediciones de temperatura, mostrar y determinar el resultado de las mediciones.\n",
        "\n",
        "Programación de funciones __2024__: [Nicolás Brunella](mailto:nbrunella@inti.gob.ar)\n",
        "\n",
        "Colaboración y modificaciones __2024__: [Mariano Real](mailto:mreal@inti.gob.ar)"
      ],
      "metadata": {
        "id": "GYNs5qqDPHGj"
      }
    },
    {
      "cell_type": "markdown",
      "source": [
        "# Inicialización\n"
      ],
      "metadata": {
        "id": "bdKmSv-HHQTM"
      }
    },
    {
      "cell_type": "markdown",
      "source": [
        "## Librerias"
      ],
      "metadata": {
        "id": "iCAwdYLaHcGi"
      }
    },
    {
      "cell_type": "code",
      "source": [
        "import io                                   # Uso en funciones de Carga\n",
        "import glob                                 # Uso en funciones de Carga\n",
        "import os                                   # Uso en funciones de Carga\n",
        "import sys                                  # Para explicar error y excepciones\n",
        "import re                                   # Uso en funciones de Carga\n",
        "import traceback                            # Uso en funciones de Carga\n",
        "import cmath                                # Uso cmath para calcular raices\n",
        "import copy\n",
        "import numpy as np                          # Uso análisis de archivo de medición de resistencia\n",
        "import pandas as pd                         # Uso análisis de archivo de medición de resistencia\n",
        "import ipywidgets as widgets                # Uso en entorno gráfico\n",
        "import matplotlib.pyplot as plt             # Uso en entorno gráfico\n",
        "from io import StringIO                     # Uso análisis de archivo de medición de temperatura\n",
        "from datetime import datetime               # Uso análisis de archivo de medición de temperatura\n",
        "from google.colab import files              # Uso en funciones de Carga\n",
        "from IPython.display import FileLink        # Uso en entorno gráfico\n",
        "from IPython.display import display, HTML   # Uso en entorno gráfico\n",
        "from IPython.display import clear_output    # Uso en entorno gráfico"
      ],
      "metadata": {
        "id": "6DDFJtkhHz2v"
      },
      "execution_count": 59,
      "outputs": []
    },
    {
      "cell_type": "markdown",
      "source": [
        "## Variables Globales"
      ],
      "metadata": {
        "id": "iQIDj7BEIHAS"
      }
    },
    {
      "cell_type": "code",
      "source": [
        "flag_lmea=0\n",
        "flag_ldat=0\n",
        "\n",
        "num_measure_est=10                # Valor default de valores para estadística\n",
        "\n",
        "Standar_1=[0.9999999,-0.00000007,-0.000000034,23.0] #Ro,alfa,beta,To\n",
        "Rs_R0=0.9999999\n",
        "Rs_alpha=-0.00000007\n",
        "Rs_beta=-0.000000034\n",
        "Rs_T=23.0\n",
        "\n",
        "\n",
        "flag_En_Calc=0\n",
        "flag_En_Graf=0\n",
        "flag_Ch_Drop=0\n",
        "index=1"
      ],
      "metadata": {
        "id": "vxFdEeLzC7YQ"
      },
      "execution_count": 60,
      "outputs": []
    },
    {
      "cell_type": "markdown",
      "source": [
        "## Funciones Generales"
      ],
      "metadata": {
        "id": "LuebmYbVH5GJ"
      }
    },
    {
      "cell_type": "code",
      "source": [
        "def counter_different_values(lista):\n",
        "    '''\n",
        "    Cuenta las diferentes corrientes de medición que se realizaron\n",
        "    Input: Lista\n",
        "    Output: int\n",
        "    '''\n",
        "    different_values = set(lista)\n",
        "    different_quantity = len(different_values)\n",
        "    return different_quantity\n"
      ],
      "metadata": {
        "id": "szUq1qd2UU53"
      },
      "execution_count": 61,
      "outputs": []
    },
    {
      "cell_type": "code",
      "source": [
        "def solve_quadratic(a, b, c):\n",
        "    '''\n",
        "    Esta ecuación resuelve la cuadrática asumiendo que\n",
        "    ax**2+bx+c=0\n",
        "    input: coeficientes reales\n",
        "    output: raices\n",
        "    '''\n",
        "    # Calculate the discriminant\n",
        "    discriminant = cmath.sqrt(b**2 - 4*a*c)\n",
        "\n",
        "    # Calculate the solutions\n",
        "    root1 = (-b + discriminant) / (2*a)\n",
        "    root2 = (-b - discriminant) / (2*a)\n",
        "\n",
        "    root1 = root1.real if abs(root1.imag) < 1e-10 else float('nan')\n",
        "    root2 = root2.real if abs(root2.imag) < 1e-10 else float('nan')\n",
        "\n",
        "    return float(root1), float(root2)"
      ],
      "metadata": {
        "id": "5U8GawKNwkxC"
      },
      "execution_count": 62,
      "outputs": []
    },
    {
      "cell_type": "code",
      "source": [
        "def openFile(path2file):\n",
        "    '''\n",
        "    Abre el archivo, devuelve las líneas del archivo path2file.\n",
        "    Asume que el archivo es un .mea\n",
        "    Input= path\n",
        "    output = lineas de un archivo (strings)\n",
        "    '''\n",
        "    try:\n",
        "        with open(path2file, mode='r') as f:  # to ensure it closes correclty\n",
        "            lines = f.readlines()\n",
        "            return lines\n",
        "    except Exception as exception:\n",
        "        print(\"There was a problem opening {}\".format(path2file))\n",
        "        print(exception)\n",
        "        raise"
      ],
      "metadata": {
        "id": "-lQaX37LBM4i"
      },
      "execution_count": 63,
      "outputs": []
    },
    {
      "cell_type": "code",
      "source": [
        "def openFile_T(path2file):\n",
        "    '''\n",
        "    Abre el archivo, devuelve las líneas del archivo path2file.\n",
        "    Asume que el archivo es un .dat\n",
        "    Input= path\n",
        "    output = lineas de un archivo (strings)\n",
        "    '''\n",
        "    try:\n",
        "        with open(path2file, mode='r', encoding='utf-8', errors='ignore') as g:  # to ensure it closes correclty\n",
        "            lines = g.readlines()\n",
        "            return lines\n",
        "    except Exception as exception:\n",
        "        print(\"There was a problem opening {}\".format(path2file))\n",
        "        print(exception)\n",
        "        raise"
      ],
      "metadata": {
        "id": "6X6vN3z8KTpd"
      },
      "execution_count": 64,
      "outputs": []
    },
    {
      "cell_type": "code",
      "source": [
        "def read_mea_file(lines_of_mea_file, ln_preface = 81):\n",
        "    '''\n",
        "    Esta función toma lo que se obtuvo de openFile, lo troza y ordena en listas\n",
        "    Inputs:\n",
        "        lines_of_mea_file: Lista de lineas de string obtenidas de openFile()\n",
        "        ln_preface(optional, default=  81): Número de lineas a saltear donde empiezan los datos de medición.\n",
        "    Outputs:\n",
        "        qlistInit: Lista que contiene todos los datos técnicos de la medición\n",
        "        qlist: Lista que contiene las mediciones. Por ej. lista[2]= Medición 3\n",
        "        qlistFinal: Lista que contiene un resumen de la medición y fecha de realización\n",
        "    Para el porceso es recomendable que todos los archivos estén juntos en el mismo archivo.\n",
        "    Notar que no importa si las mediciones tienes diferentes cantidad de puntos.\n",
        "    '''\n",
        "    chunks = []\n",
        "    qlist = []\n",
        "    chunksInit =[]\n",
        "    qlistInit = []\n",
        "    chunksFinal = []\n",
        "    qlistFinal = []\n",
        "    nn = 0\n",
        "    Quantity_Measurements = 0\n",
        "    ii = 0\n",
        "    for line in lines_of_mea_file:\n",
        "        if (nn>ln_preface and line != '\\n' and ii == 0):\n",
        "            chunks.append(line)\n",
        "            nn += 1\n",
        "        elif (nn<ln_preface):\n",
        "            chunksInit.append(line)\n",
        "            nn +=1\n",
        "        elif (nn>ln_preface and line == '\\n'):\n",
        "            ii = 1\n",
        "            nn += 1\n",
        "        elif (nn>ln_preface and ii == 1 and line != '***\\n'):\n",
        "            chunksFinal.append(line)\n",
        "            nn += 1\n",
        "        elif (line =='***\\n'):\n",
        "            ii = 0\n",
        "            Quantity_Measurements += 1\n",
        "            nn = 0\n",
        "            qlist.append(chunks)\n",
        "            qlistInit.append(chunksInit)\n",
        "            qlistFinal.append(chunksFinal)\n",
        "            chunks = []\n",
        "            chunksInit = []\n",
        "            chunksFinal = []\n",
        "        else:\n",
        "            nn += 1\n",
        "    return qlistInit, qlist, qlistFinal,Quantity_Measurements"
      ],
      "metadata": {
        "id": "qhefhGC0J7At"
      },
      "execution_count": 65,
      "outputs": []
    },
    {
      "cell_type": "code",
      "source": [
        "def select_arch_dat():\n",
        "    '''\n",
        "    Función para seleccionar un archivo\n",
        "    Input: nada\n",
        "    Output: FileLink/Path\n",
        "    '''\n",
        "    file_path_i=''\n",
        "    uploaded = files.upload()                   # Muestra un cuadro de diálogo para cargar un archivo\n",
        "\n",
        "    ruta_al_archivo = list(uploaded.keys())[0]  # Obtiene la ruta del archivo cargado\n",
        "\n",
        "    _, extension = os.path.splitext(ruta_al_archivo)\n",
        "    if extension.lower() == '.dat':\n",
        "      file_path_i = FileLink(ruta_al_archivo)     # Crea un enlace para abrir el archivo\n",
        "    else:\n",
        "      file_path_i=''\n",
        "\n",
        "    return (file_path_i)                        # Muestra el enlace"
      ],
      "metadata": {
        "id": "bxnm9mBr5B3Y"
      },
      "execution_count": 66,
      "outputs": []
    },
    {
      "cell_type": "code",
      "source": [
        "def select_arch_mea():\n",
        "    '''\n",
        "    Función para seleccionar un archivo\n",
        "    Input: nada\n",
        "    Output: FileLink/Path\n",
        "    '''\n",
        "    file_path_i=''\n",
        "    uploaded = files.upload()                   # Muestra un cuadro de diálogo para cargar un archivo\n",
        "\n",
        "    ruta_al_archivo = list(uploaded.keys())[0]  # Obtiene la ruta del archivo cargado\n",
        "\n",
        "    _, extension = os.path.splitext(ruta_al_archivo)\n",
        "    if extension.lower() == '.mea':\n",
        "      file_path_i = FileLink(ruta_al_archivo)     # Crea un enlace para abrir el archivo\n",
        "    else:\n",
        "      file_path_i=''\n",
        "\n",
        "    return (file_path_i)                        # Muestra el enlace"
      ],
      "metadata": {
        "id": "HwZCW2X-Jpy-"
      },
      "execution_count": 67,
      "outputs": []
    },
    {
      "cell_type": "code",
      "source": [
        "def get_Date_num(Date_aux):\n",
        "  '''\n",
        "  Toma una linea de texto en con la fecha y horaria y devuelve\n",
        "  un string con la fecha expresada en dd/mm/aaaa y un valor numerico representativo\n",
        "  '''\n",
        "  Date_1=Date_aux.split()\n",
        "  Date=Date_1[0]\n",
        "  Time=Date_1[1]\n",
        "\n",
        "  Date_s=Date.split(\"/\")\n",
        "  Day=Date_s[0]\n",
        "  Mon=Date_s[1]\n",
        "  Yea=Date_s[2]\n",
        "\n",
        "  Time_s=Time.split(\":\")\n",
        "  Hour=Time_s[0]\n",
        "  Minu=Time_s[1]\n",
        "  Seco=Time_s[2]\n",
        "\n",
        "  auxday=int(Day)\n",
        "  auxmon=int(Mon)\n",
        "  if auxday<10:\n",
        "    Day=\"0\"+Day\n",
        "  if auxmon<10:\n",
        "    Mon=\"0\"+Mon\n",
        "\n",
        "  Date_num=int(Yea+Mon+Day+Hour+Minu+Seco)\n",
        "\n",
        "  return Date,Date_num,Time\n"
      ],
      "metadata": {
        "id": "JYN9iSovXmCp"
      },
      "execution_count": 68,
      "outputs": []
    },
    {
      "cell_type": "code",
      "source": [
        "Sonda = 0\n",
        "datos_Rosemoun= [100,0.004,-7.5*10**(-7)]                     # Valores inventados\n",
        "datos_PT10002= [99.942247,0.0039253221,-7.5009932*10**(-7)]\n",
        "SondaList=['STRP Rosemount','LPC PT100-02','STRP Rosemount y LPC PT100-02']\n",
        "\n",
        "SDic = {SondaList[0]: datos_Rosemoun, SondaList[1]: datos_PT10002}\n",
        "Files = ['R_0', 'Alpha', 'Beta']\n",
        "df_s = pd.DataFrame(SDic, index=Files)\n"
      ],
      "metadata": {
        "id": "_bVvNUHEkIlu"
      },
      "execution_count": 69,
      "outputs": []
    },
    {
      "cell_type": "code",
      "source": [
        "# Crear widgets\n",
        "button_mea = widgets.Button(description=\"Cargar *.mea\")\n",
        "button_dat = widgets.Button(description=\"Cargar *.dat\")\n",
        "button_est_ok = widgets.Button(description=\"Setear\")\n",
        "input_text_est = widgets.Text(value= str(num_measure_est), description='Muestras:')\n",
        "\n",
        "\n",
        "Sonda_dropdown= widgets.Dropdown(\n",
        "    options=SondaList,\n",
        "    value=SondaList[Sonda],\n",
        "    description='Sonda:')\n",
        "\n",
        "def handle_dropdown_Sonda(change):\n",
        "    global Sonda, Sonda_name\n",
        "    Sonda_name = change.new\n",
        "    if(Sonda_name=='STRP Rosemount'): Sonda=0\n",
        "    if(Sonda_name=='LPC PT100-02'): Sonda=1\n",
        "    if(Sonda_name=='STRP Rosemount y LPC PT100-02'): Sonda=2\n",
        "\n",
        "\n",
        "Sonda_dropdown.observe(handle_dropdown_Sonda, names='value')\n",
        "\n",
        "def on_button_mea_click(b):                      #Carga de .mea\n",
        "    global flag_lmea,file_path\n",
        "    file_path= str(select_arch_mea())\n",
        "    if file_path=='':\n",
        "      Ejecutar_para_configurar()\n",
        "      print(\"La extensión del archivo no es la correcta.Debe ser .mea\")\n",
        "\n",
        "\n",
        "def on_button_dat_click(b):                      #Carga de .dat\n",
        "    global flag_ldat,file_path_t\n",
        "    file_path_t= str(select_arch_dat())\n",
        "    if file_path_t=='':\n",
        "      Ejecutar_para_configurar()\n",
        "      print(\"La extensión del archivo no es la correcta.Debe ser .dat\")\n",
        "\n",
        "def on_button_set1(b):\n",
        "      global num_measure_est\n",
        "      num_measure_aux=(input_text_est.value).strip()\n",
        "      if num_measure_aux.isdigit():\n",
        "          num_measure_est=int(num_measure_aux)\n",
        "          display(\"Muestras tomadas para estadística: \"+num_measure_aux)\n",
        "          display(\"Nota: Si la cantidad de muestras excede la cantidad de muestras por medición se tomarán el total de estas\")\n",
        "      else:\n",
        "          Ejecutar_para_configurar()\n",
        "          display(\"El valor introducido no es numérico. Por favor intentarlo nuevamente\")\n",
        "\n",
        "# Configurar la función a llamar cuando se hace clic en el botón\n",
        "button_mea.on_click(on_button_mea_click)\n",
        "button_dat.on_click(on_button_dat_click)\n",
        "button_est_ok.on_click(on_button_set1)\n",
        "\n",
        "def Ejecutar_para_configurar():\n",
        "    clear_output()\n",
        "    display(button_mea)\n",
        "    display(button_dat)\n",
        "    display(input_text_est)\n",
        "    display(button_est_ok)\n",
        "    display(Sonda_dropdown)"
      ],
      "metadata": {
        "id": "FOMmI19Z5_rx"
      },
      "execution_count": 70,
      "outputs": []
    },
    {
      "cell_type": "markdown",
      "source": [
        "#Carga y configuración\n"
      ],
      "metadata": {
        "id": "n30nRsp956Yw"
      }
    },
    {
      "cell_type": "code",
      "source": [
        "Ejecutar_para_configurar()"
      ],
      "metadata": {
        "colab": {
          "base_uri": "https://localhost:8080/",
          "height": 326,
          "referenced_widgets": [
            "912040e89f5049149d0c592bd45fd158",
            "731697459c624b94a229c9f6daa2a761",
            "ebf3be2b6c1143f781496cdf889d9bb7",
            "bacd1cfd40a3465093f034c44e3d976c",
            "2ccfb6cccf3142e288a71161070d7ef8",
            "89a9518b39534bf48e5addebed11371b",
            "96a8127a09d94bd89c9194b0c2379cf3",
            "fb3e1517231343b6ba33cda74b987af1",
            "07ce8a69bf4c429f8d8c029b5199e6da",
            "c0d35e0572cf4b3aa9b7a65adc688308",
            "df2256cc03de4af299501a85f4991984",
            "6c88fd623fe04c77b1ffdb2ca4de4a0b",
            "09121afb9697427da6f535e5ccf0875e",
            "b1929cfc4b8849b3ba5cc6419b3e6210",
            "379dc625be074184985fc4cd86731b8a"
          ]
        },
        "id": "BrK47FVVJlWj",
        "outputId": "6f775a3b-76d3-4bf1-b7ce-957e01058b55"
      },
      "execution_count": 71,
      "outputs": [
        {
          "output_type": "display_data",
          "data": {
            "text/plain": [
              "Button(description='Cargar *.mea', style=ButtonStyle())"
            ],
            "application/vnd.jupyter.widget-view+json": {
              "version_major": 2,
              "version_minor": 0,
              "model_id": "912040e89f5049149d0c592bd45fd158"
            }
          },
          "metadata": {}
        },
        {
          "output_type": "display_data",
          "data": {
            "text/plain": [
              "Button(description='Cargar *.dat', style=ButtonStyle())"
            ],
            "application/vnd.jupyter.widget-view+json": {
              "version_major": 2,
              "version_minor": 0,
              "model_id": "bacd1cfd40a3465093f034c44e3d976c"
            }
          },
          "metadata": {}
        },
        {
          "output_type": "display_data",
          "data": {
            "text/plain": [
              "Text(value='10', description='Muestras:')"
            ],
            "application/vnd.jupyter.widget-view+json": {
              "version_major": 2,
              "version_minor": 0,
              "model_id": "96a8127a09d94bd89c9194b0c2379cf3"
            }
          },
          "metadata": {}
        },
        {
          "output_type": "display_data",
          "data": {
            "text/plain": [
              "Button(description='Setear', style=ButtonStyle())"
            ],
            "application/vnd.jupyter.widget-view+json": {
              "version_major": 2,
              "version_minor": 0,
              "model_id": "c0d35e0572cf4b3aa9b7a65adc688308"
            }
          },
          "metadata": {}
        },
        {
          "output_type": "display_data",
          "data": {
            "text/plain": [
              "Dropdown(description='Sonda:', options=('STRP Rosemount', 'LPC PT100-02', 'STRP Rosemount y LPC PT100-02'), va…"
            ],
            "application/vnd.jupyter.widget-view+json": {
              "version_major": 2,
              "version_minor": 0,
              "model_id": "09121afb9697427da6f535e5ccf0875e"
            }
          },
          "metadata": {}
        },
        {
          "output_type": "display_data",
          "data": {
            "text/plain": [
              "<IPython.core.display.HTML object>"
            ],
            "text/html": [
              "\n",
              "     <input type=\"file\" id=\"files-fb6f3b0f-56d9-4889-86c9-ec8aa8c6c17f\" name=\"files[]\" multiple disabled\n",
              "        style=\"border:none\" />\n",
              "     <output id=\"result-fb6f3b0f-56d9-4889-86c9-ec8aa8c6c17f\">\n",
              "      Upload widget is only available when the cell has been executed in the\n",
              "      current browser session. Please rerun this cell to enable.\n",
              "      </output>\n",
              "      <script>// Copyright 2017 Google LLC\n",
              "//\n",
              "// Licensed under the Apache License, Version 2.0 (the \"License\");\n",
              "// you may not use this file except in compliance with the License.\n",
              "// You may obtain a copy of the License at\n",
              "//\n",
              "//      http://www.apache.org/licenses/LICENSE-2.0\n",
              "//\n",
              "// Unless required by applicable law or agreed to in writing, software\n",
              "// distributed under the License is distributed on an \"AS IS\" BASIS,\n",
              "// WITHOUT WARRANTIES OR CONDITIONS OF ANY KIND, either express or implied.\n",
              "// See the License for the specific language governing permissions and\n",
              "// limitations under the License.\n",
              "\n",
              "/**\n",
              " * @fileoverview Helpers for google.colab Python module.\n",
              " */\n",
              "(function(scope) {\n",
              "function span(text, styleAttributes = {}) {\n",
              "  const element = document.createElement('span');\n",
              "  element.textContent = text;\n",
              "  for (const key of Object.keys(styleAttributes)) {\n",
              "    element.style[key] = styleAttributes[key];\n",
              "  }\n",
              "  return element;\n",
              "}\n",
              "\n",
              "// Max number of bytes which will be uploaded at a time.\n",
              "const MAX_PAYLOAD_SIZE = 100 * 1024;\n",
              "\n",
              "function _uploadFiles(inputId, outputId) {\n",
              "  const steps = uploadFilesStep(inputId, outputId);\n",
              "  const outputElement = document.getElementById(outputId);\n",
              "  // Cache steps on the outputElement to make it available for the next call\n",
              "  // to uploadFilesContinue from Python.\n",
              "  outputElement.steps = steps;\n",
              "\n",
              "  return _uploadFilesContinue(outputId);\n",
              "}\n",
              "\n",
              "// This is roughly an async generator (not supported in the browser yet),\n",
              "// where there are multiple asynchronous steps and the Python side is going\n",
              "// to poll for completion of each step.\n",
              "// This uses a Promise to block the python side on completion of each step,\n",
              "// then passes the result of the previous step as the input to the next step.\n",
              "function _uploadFilesContinue(outputId) {\n",
              "  const outputElement = document.getElementById(outputId);\n",
              "  const steps = outputElement.steps;\n",
              "\n",
              "  const next = steps.next(outputElement.lastPromiseValue);\n",
              "  return Promise.resolve(next.value.promise).then((value) => {\n",
              "    // Cache the last promise value to make it available to the next\n",
              "    // step of the generator.\n",
              "    outputElement.lastPromiseValue = value;\n",
              "    return next.value.response;\n",
              "  });\n",
              "}\n",
              "\n",
              "/**\n",
              " * Generator function which is called between each async step of the upload\n",
              " * process.\n",
              " * @param {string} inputId Element ID of the input file picker element.\n",
              " * @param {string} outputId Element ID of the output display.\n",
              " * @return {!Iterable<!Object>} Iterable of next steps.\n",
              " */\n",
              "function* uploadFilesStep(inputId, outputId) {\n",
              "  const inputElement = document.getElementById(inputId);\n",
              "  inputElement.disabled = false;\n",
              "\n",
              "  const outputElement = document.getElementById(outputId);\n",
              "  outputElement.innerHTML = '';\n",
              "\n",
              "  const pickedPromise = new Promise((resolve) => {\n",
              "    inputElement.addEventListener('change', (e) => {\n",
              "      resolve(e.target.files);\n",
              "    });\n",
              "  });\n",
              "\n",
              "  const cancel = document.createElement('button');\n",
              "  inputElement.parentElement.appendChild(cancel);\n",
              "  cancel.textContent = 'Cancel upload';\n",
              "  const cancelPromise = new Promise((resolve) => {\n",
              "    cancel.onclick = () => {\n",
              "      resolve(null);\n",
              "    };\n",
              "  });\n",
              "\n",
              "  // Wait for the user to pick the files.\n",
              "  const files = yield {\n",
              "    promise: Promise.race([pickedPromise, cancelPromise]),\n",
              "    response: {\n",
              "      action: 'starting',\n",
              "    }\n",
              "  };\n",
              "\n",
              "  cancel.remove();\n",
              "\n",
              "  // Disable the input element since further picks are not allowed.\n",
              "  inputElement.disabled = true;\n",
              "\n",
              "  if (!files) {\n",
              "    return {\n",
              "      response: {\n",
              "        action: 'complete',\n",
              "      }\n",
              "    };\n",
              "  }\n",
              "\n",
              "  for (const file of files) {\n",
              "    const li = document.createElement('li');\n",
              "    li.append(span(file.name, {fontWeight: 'bold'}));\n",
              "    li.append(span(\n",
              "        `(${file.type || 'n/a'}) - ${file.size} bytes, ` +\n",
              "        `last modified: ${\n",
              "            file.lastModifiedDate ? file.lastModifiedDate.toLocaleDateString() :\n",
              "                                    'n/a'} - `));\n",
              "    const percent = span('0% done');\n",
              "    li.appendChild(percent);\n",
              "\n",
              "    outputElement.appendChild(li);\n",
              "\n",
              "    const fileDataPromise = new Promise((resolve) => {\n",
              "      const reader = new FileReader();\n",
              "      reader.onload = (e) => {\n",
              "        resolve(e.target.result);\n",
              "      };\n",
              "      reader.readAsArrayBuffer(file);\n",
              "    });\n",
              "    // Wait for the data to be ready.\n",
              "    let fileData = yield {\n",
              "      promise: fileDataPromise,\n",
              "      response: {\n",
              "        action: 'continue',\n",
              "      }\n",
              "    };\n",
              "\n",
              "    // Use a chunked sending to avoid message size limits. See b/62115660.\n",
              "    let position = 0;\n",
              "    do {\n",
              "      const length = Math.min(fileData.byteLength - position, MAX_PAYLOAD_SIZE);\n",
              "      const chunk = new Uint8Array(fileData, position, length);\n",
              "      position += length;\n",
              "\n",
              "      const base64 = btoa(String.fromCharCode.apply(null, chunk));\n",
              "      yield {\n",
              "        response: {\n",
              "          action: 'append',\n",
              "          file: file.name,\n",
              "          data: base64,\n",
              "        },\n",
              "      };\n",
              "\n",
              "      let percentDone = fileData.byteLength === 0 ?\n",
              "          100 :\n",
              "          Math.round((position / fileData.byteLength) * 100);\n",
              "      percent.textContent = `${percentDone}% done`;\n",
              "\n",
              "    } while (position < fileData.byteLength);\n",
              "  }\n",
              "\n",
              "  // All done.\n",
              "  yield {\n",
              "    response: {\n",
              "      action: 'complete',\n",
              "    }\n",
              "  };\n",
              "}\n",
              "\n",
              "scope.google = scope.google || {};\n",
              "scope.google.colab = scope.google.colab || {};\n",
              "scope.google.colab._files = {\n",
              "  _uploadFiles,\n",
              "  _uploadFilesContinue,\n",
              "};\n",
              "})(self);\n",
              "</script> "
            ]
          },
          "metadata": {}
        },
        {
          "output_type": "stream",
          "name": "stdout",
          "text": [
            "Saving 2024-02-01 LBP161.mea to 2024-02-01 LBP161 (1).mea\n"
          ]
        },
        {
          "output_type": "display_data",
          "data": {
            "text/plain": [
              "<IPython.core.display.HTML object>"
            ],
            "text/html": [
              "\n",
              "     <input type=\"file\" id=\"files-23b4dab8-8460-4066-9279-fad74c611715\" name=\"files[]\" multiple disabled\n",
              "        style=\"border:none\" />\n",
              "     <output id=\"result-23b4dab8-8460-4066-9279-fad74c611715\">\n",
              "      Upload widget is only available when the cell has been executed in the\n",
              "      current browser session. Please rerun this cell to enable.\n",
              "      </output>\n",
              "      <script>// Copyright 2017 Google LLC\n",
              "//\n",
              "// Licensed under the Apache License, Version 2.0 (the \"License\");\n",
              "// you may not use this file except in compliance with the License.\n",
              "// You may obtain a copy of the License at\n",
              "//\n",
              "//      http://www.apache.org/licenses/LICENSE-2.0\n",
              "//\n",
              "// Unless required by applicable law or agreed to in writing, software\n",
              "// distributed under the License is distributed on an \"AS IS\" BASIS,\n",
              "// WITHOUT WARRANTIES OR CONDITIONS OF ANY KIND, either express or implied.\n",
              "// See the License for the specific language governing permissions and\n",
              "// limitations under the License.\n",
              "\n",
              "/**\n",
              " * @fileoverview Helpers for google.colab Python module.\n",
              " */\n",
              "(function(scope) {\n",
              "function span(text, styleAttributes = {}) {\n",
              "  const element = document.createElement('span');\n",
              "  element.textContent = text;\n",
              "  for (const key of Object.keys(styleAttributes)) {\n",
              "    element.style[key] = styleAttributes[key];\n",
              "  }\n",
              "  return element;\n",
              "}\n",
              "\n",
              "// Max number of bytes which will be uploaded at a time.\n",
              "const MAX_PAYLOAD_SIZE = 100 * 1024;\n",
              "\n",
              "function _uploadFiles(inputId, outputId) {\n",
              "  const steps = uploadFilesStep(inputId, outputId);\n",
              "  const outputElement = document.getElementById(outputId);\n",
              "  // Cache steps on the outputElement to make it available for the next call\n",
              "  // to uploadFilesContinue from Python.\n",
              "  outputElement.steps = steps;\n",
              "\n",
              "  return _uploadFilesContinue(outputId);\n",
              "}\n",
              "\n",
              "// This is roughly an async generator (not supported in the browser yet),\n",
              "// where there are multiple asynchronous steps and the Python side is going\n",
              "// to poll for completion of each step.\n",
              "// This uses a Promise to block the python side on completion of each step,\n",
              "// then passes the result of the previous step as the input to the next step.\n",
              "function _uploadFilesContinue(outputId) {\n",
              "  const outputElement = document.getElementById(outputId);\n",
              "  const steps = outputElement.steps;\n",
              "\n",
              "  const next = steps.next(outputElement.lastPromiseValue);\n",
              "  return Promise.resolve(next.value.promise).then((value) => {\n",
              "    // Cache the last promise value to make it available to the next\n",
              "    // step of the generator.\n",
              "    outputElement.lastPromiseValue = value;\n",
              "    return next.value.response;\n",
              "  });\n",
              "}\n",
              "\n",
              "/**\n",
              " * Generator function which is called between each async step of the upload\n",
              " * process.\n",
              " * @param {string} inputId Element ID of the input file picker element.\n",
              " * @param {string} outputId Element ID of the output display.\n",
              " * @return {!Iterable<!Object>} Iterable of next steps.\n",
              " */\n",
              "function* uploadFilesStep(inputId, outputId) {\n",
              "  const inputElement = document.getElementById(inputId);\n",
              "  inputElement.disabled = false;\n",
              "\n",
              "  const outputElement = document.getElementById(outputId);\n",
              "  outputElement.innerHTML = '';\n",
              "\n",
              "  const pickedPromise = new Promise((resolve) => {\n",
              "    inputElement.addEventListener('change', (e) => {\n",
              "      resolve(e.target.files);\n",
              "    });\n",
              "  });\n",
              "\n",
              "  const cancel = document.createElement('button');\n",
              "  inputElement.parentElement.appendChild(cancel);\n",
              "  cancel.textContent = 'Cancel upload';\n",
              "  const cancelPromise = new Promise((resolve) => {\n",
              "    cancel.onclick = () => {\n",
              "      resolve(null);\n",
              "    };\n",
              "  });\n",
              "\n",
              "  // Wait for the user to pick the files.\n",
              "  const files = yield {\n",
              "    promise: Promise.race([pickedPromise, cancelPromise]),\n",
              "    response: {\n",
              "      action: 'starting',\n",
              "    }\n",
              "  };\n",
              "\n",
              "  cancel.remove();\n",
              "\n",
              "  // Disable the input element since further picks are not allowed.\n",
              "  inputElement.disabled = true;\n",
              "\n",
              "  if (!files) {\n",
              "    return {\n",
              "      response: {\n",
              "        action: 'complete',\n",
              "      }\n",
              "    };\n",
              "  }\n",
              "\n",
              "  for (const file of files) {\n",
              "    const li = document.createElement('li');\n",
              "    li.append(span(file.name, {fontWeight: 'bold'}));\n",
              "    li.append(span(\n",
              "        `(${file.type || 'n/a'}) - ${file.size} bytes, ` +\n",
              "        `last modified: ${\n",
              "            file.lastModifiedDate ? file.lastModifiedDate.toLocaleDateString() :\n",
              "                                    'n/a'} - `));\n",
              "    const percent = span('0% done');\n",
              "    li.appendChild(percent);\n",
              "\n",
              "    outputElement.appendChild(li);\n",
              "\n",
              "    const fileDataPromise = new Promise((resolve) => {\n",
              "      const reader = new FileReader();\n",
              "      reader.onload = (e) => {\n",
              "        resolve(e.target.result);\n",
              "      };\n",
              "      reader.readAsArrayBuffer(file);\n",
              "    });\n",
              "    // Wait for the data to be ready.\n",
              "    let fileData = yield {\n",
              "      promise: fileDataPromise,\n",
              "      response: {\n",
              "        action: 'continue',\n",
              "      }\n",
              "    };\n",
              "\n",
              "    // Use a chunked sending to avoid message size limits. See b/62115660.\n",
              "    let position = 0;\n",
              "    do {\n",
              "      const length = Math.min(fileData.byteLength - position, MAX_PAYLOAD_SIZE);\n",
              "      const chunk = new Uint8Array(fileData, position, length);\n",
              "      position += length;\n",
              "\n",
              "      const base64 = btoa(String.fromCharCode.apply(null, chunk));\n",
              "      yield {\n",
              "        response: {\n",
              "          action: 'append',\n",
              "          file: file.name,\n",
              "          data: base64,\n",
              "        },\n",
              "      };\n",
              "\n",
              "      let percentDone = fileData.byteLength === 0 ?\n",
              "          100 :\n",
              "          Math.round((position / fileData.byteLength) * 100);\n",
              "      percent.textContent = `${percentDone}% done`;\n",
              "\n",
              "    } while (position < fileData.byteLength);\n",
              "  }\n",
              "\n",
              "  // All done.\n",
              "  yield {\n",
              "    response: {\n",
              "      action: 'complete',\n",
              "    }\n",
              "  };\n",
              "}\n",
              "\n",
              "scope.google = scope.google || {};\n",
              "scope.google.colab = scope.google.colab || {};\n",
              "scope.google.colab._files = {\n",
              "  _uploadFiles,\n",
              "  _uploadFilesContinue,\n",
              "};\n",
              "})(self);\n",
              "</script> "
            ]
          },
          "metadata": {}
        },
        {
          "output_type": "stream",
          "name": "stdout",
          "text": [
            "Saving 2024-02-01LBP161.DAT to 2024-02-01LBP161 (1).DAT\n"
          ]
        },
        {
          "output_type": "display_data",
          "data": {
            "text/plain": [
              "'Muestras tomadas para estadística: 10'"
            ],
            "application/vnd.google.colaboratory.intrinsic+json": {
              "type": "string"
            }
          },
          "metadata": {}
        },
        {
          "output_type": "display_data",
          "data": {
            "text/plain": [
              "'Nota: Si la cantidad de muestras excede la cantidad de muestras por medición se tomarán el total de estas'"
            ],
            "application/vnd.google.colaboratory.intrinsic+json": {
              "type": "string"
            }
          },
          "metadata": {}
        }
      ]
    },
    {
      "cell_type": "markdown",
      "source": [
        "# Ejecutar para análisis de archivos"
      ],
      "metadata": {
        "id": "Rryf_0UpKn5U"
      }
    },
    {
      "cell_type": "markdown",
      "source": [
        "## Análisis de archivo de medición: *.mea"
      ],
      "metadata": {
        "id": "TXSmV7RgIp_Y"
      }
    },
    {
      "cell_type": "code",
      "execution_count": 72,
      "metadata": {
        "id": "kVwFJZYQAH4b"
      },
      "outputs": [],
      "source": [
        "lineas = openFile(file_path)\n",
        "qlistInit_aux, qlist_aux, qlistFinal_aux,Quantity_Measurements_aux= read_mea_file(lineas, ln_preface = 81)\n"
      ]
    },
    {
      "cell_type": "code",
      "source": [
        "qlistFinal=[]\n",
        "qlistInit=[]\n",
        "qlist=[]\n",
        "Quantity_Measurements=0\n",
        "\n",
        "for i in range(Quantity_Measurements_aux):                      # Solo mediciones buenas proporcionan 12 líneas en qListFinal_aux\n",
        "  if len(qlistFinal_aux[i])==12:                                # Si es así la agrego\n",
        "      qlistInit.append(qlistInit_aux[i])\n",
        "      qlist.append(qlist_aux[i])\n",
        "      qlistFinal.append(qlistFinal_aux[i])\n",
        "\n",
        "Quantity_Measurements=len(qlist)                                # Variable muy importante"
      ],
      "metadata": {
        "id": "HP_23t6yUAUv"
      },
      "execution_count": 73,
      "outputs": []
    },
    {
      "cell_type": "code",
      "execution_count": 74,
      "metadata": {
        "id": "Jr4iLDVmQqEx"
      },
      "outputs": [],
      "source": [
        "def create_df_from_list(qlist, n,num_measure_est):\n",
        "    '''\n",
        "    Crea un DataFrame desde una lista proveniente del .mea\n",
        "    Input: listado,número a iterar\n",
        "    Output: Dataframe\n",
        "    '''\n",
        "    df_aux = pd.DataFrame([sub.split(';') for sub in qlist[n]])\n",
        "    size_df_m=df_aux.shape[0]\n",
        "    if size_df_m<num_measure_est:                                     # Si el número es mayor que el medido se toma toda el largo de la medición\n",
        "      num_measure_est=size_df_m\n",
        "    df = df_aux.tail(num_measure_est)                                 # Recorta la lista a num_measure_est de largo\n",
        "    df.columns = ['Ratio', 'Measure', 'Time']\n",
        "    return df\n"
      ]
    },
    {
      "cell_type": "code",
      "execution_count": 75,
      "metadata": {
        "id": "ROk8QY_tQyX8"
      },
      "outputs": [],
      "source": [
        "df_m = [create_df_from_list(qlist, i,num_measure_est) for i in range(Quantity_Measurements)]          # Crea una lista de Dataframe\n",
        "\n",
        "for i in range(Quantity_Measurements):\n",
        "    df_m[i]['Time'] = df_m[i]['Time'].str.strip()"
      ]
    },
    {
      "cell_type": "code",
      "execution_count": 76,
      "metadata": {
        "id": "BDwadNk0C_Ly"
      },
      "outputs": [],
      "source": [
        "measure_f=[]                                                            #Lista de mediciones en formato float\n",
        "time_h=[]                                                               #Lista de hora en formato \"H\":\"M\":\"S\"\n",
        "ratio=[]\n",
        "for i in range(Quantity_Measurements):                                                # Genero un listado de listas del tipo float\n",
        "      measure_f.append([float(numero) for numero in df_m[i][\"Measure\"]])\n",
        "      ratio.append([float(numero) for numero in df_m[i][\"Ratio\"]])\n",
        "      time_h.append(df_m[i][\"Time\"])"
      ]
    },
    {
      "cell_type": "code",
      "execution_count": 77,
      "metadata": {
        "id": "xqI9rjNejqnf"
      },
      "outputs": [],
      "source": [
        "                                              #Listados de los parámetros de las mediciones\n",
        "iList=[0]*Quantity_Measurements               #Listado de corrientes\n",
        "RsList=[0]*Quantity_Measurements              #Listado de patrones\n",
        "RxList=[0]*Quantity_Measurements              #Listado de Mesurandos\n",
        "MvList=[0]*Quantity_Measurements              #Listado de Mediciones medias\n",
        "StList=[0]*Quantity_Measurements              #Listado de desvios\n",
        "StartDateList=[0]*Quantity_Measurements       #Listado de fecha de inicio\n",
        "StartDateNumList=[0]*Quantity_Measurements    #Listado de fecha y horario de inicio formato entero\n",
        "StopDateList=[0]*Quantity_Measurements        #Listado de fecha de finalización\n",
        "StopDateNumList=[0]*Quantity_Measurements     #Listado de fecha y horario de finalización formato entero\n",
        "StartHourList=[0]*Quantity_Measurements\n",
        "StopHourList=[0]*Quantity_Measurements\n",
        "Rs_modelList=[0]*Quantity_Measurements\n",
        "Rx_modelList=[0]*Quantity_Measurements\n",
        "\n",
        "for i in range(Quantity_Measurements):\n",
        "  StartDate_aux= qlistInit[i][13].strip()\n",
        "  StartDateList[i],StartDateNumList[i],StartHourList[i]= get_Date_num(StartDate_aux)  # Obtengo un valor tipo string para presentar y otro int para operar\n",
        "\n",
        "  StopDate_aux= qlistFinal[i][11].strip()\n",
        "  StopDateList[i],StopDateNumList[i],StopHourList[i]=get_Date_num(StopDate_aux)       #Idem\n",
        "\n",
        "  iList[i]=  qlistInit[i][22].strip()         #Línea donde se guarda la corriente Rx\n",
        "  RsList[i]= qlistInit[i][33].strip()         #Línea donde se guarda la que valor nominal de patrón se usó\n",
        "  Rs_modelList[i]= qlistInit[i][39].strip()   #Línea donde se guarda el modelo del patrón\n",
        "  RxList[i]= qlistInit[i][57].strip()         #Línea donde se guarda la que valor nominal de patrón se usó\n",
        "  Rx_modelList[i]= qlistInit[i][64].strip()   #Línea donde se guarda el modelo del resistor a medir\n"
      ]
    },
    {
      "cell_type": "code",
      "source": [
        "amList=[0]*Quantity_Measurements\n",
        "gammaList=[0]*Quantity_Measurements\n",
        "\n",
        "for i in range(Quantity_Measurements):\n",
        "  ratio_aux=np.mean(ratio[i])                                           # Valor promedio de gamma (Rx/Rs) medido por medición\n",
        "  gammaList[i]=ratio_aux\n"
      ],
      "metadata": {
        "id": "THIhRRkcuUV8"
      },
      "execution_count": 78,
      "outputs": []
    },
    {
      "cell_type": "markdown",
      "source": [
        "## Análisis de archivo de medición: *.dat"
      ],
      "metadata": {
        "id": "Ouz8QLxzI9Fj"
      }
    },
    {
      "cell_type": "code",
      "source": [
        "lineas_t = openFile_T(file_path_t)        #"
      ],
      "metadata": {
        "id": "M6gNgY3YLn_f"
      },
      "execution_count": 79,
      "outputs": []
    },
    {
      "cell_type": "code",
      "source": [
        "Measures_of_datlist=[]\n",
        "\n",
        "for line in lineas_t:                     # Lectura de .dat\n",
        "  line_header= line[:6]                   # line_header detecta el encabezado\n",
        "  line_sensor= line[:8]                   # line_sensor me permite saber que sonda es\n",
        "  if(line_header!=\"sensor\"):\n",
        "    if \":\" in line:\n",
        "      Measures_of_datlist.append(line)    # Agrega a la lista la info\n",
        "\n",
        "\n",
        "\n",
        "df_t = pd.DataFrame([linea.split(\",\") for linea in Measures_of_datlist], columns=['Date Hour T', 'Mean S1', 'Mean S2', 'Time T'])\n",
        "\n",
        "size_df_t=df_t.shape[0]                   # Variable que me dice la cantidad de mediciones de temperatura que hay\n",
        "\n",
        "for i in range(size_df_t):\n",
        "    df_t['Time T'] = df_t['Time T'].str.strip()\n",
        "\n",
        "df_t['Time T'] = df_t['Time T'].astype(int)\n",
        "df_t['Mean S1'] = df_t['Mean S1'].astype(float)\n",
        "df_t['Mean S2'] = df_t['Mean S2'].astype(float)\n"
      ],
      "metadata": {
        "id": "Yoy7wEkUX6pR"
      },
      "execution_count": 80,
      "outputs": []
    },
    {
      "cell_type": "code",
      "source": [
        "Val_Sonda1_Ohm=[0]*size_df_t\n",
        "Val_Sonda2_Ohm=[0]*size_df_t\n",
        "\n",
        "for i in range(size_df_t-1):\n",
        "  Val_Sonda1_Ohm[i]=df_t.loc[i, 'Mean S1'].astype(float)          #Rosemount\n",
        "  Val_Sonda2_Ohm[i]=df_t.loc[i, 'Mean S2'].astype(float)          #LPC-PT100"
      ],
      "metadata": {
        "id": "hMz-A1j7r8nW"
      },
      "execution_count": 81,
      "outputs": []
    },
    {
      "cell_type": "code",
      "source": [
        "def Temp_ave (R_T,Sonda_T):\n",
        "  '''\n",
        "  Función que calcula temperatura promedio del listado de entrada\n",
        "  Input = promedio de mediciones en Ohm\n",
        "  Output= promedio de temperatura en grados centígrados\n",
        "  '''\n",
        "  Tfinal=0\n",
        "  if(Sonda_T==0):\n",
        "    SColumn='STRP Rosemount'\n",
        "  if(Sonda_T==1):\n",
        "    SColumn='LPC PT100-02'\n",
        "\n",
        "  R_0 = float(df_s.iloc[0, df_s.columns.get_loc(SColumn)])\n",
        "  alpha=float(df_s.iloc[1, df_s.columns.get_loc(SColumn)])\n",
        "  beta =float(df_s.iloc[2, df_s.columns.get_loc(SColumn)])\n",
        "\n",
        "  c = R_0 - R_T\n",
        "  b = R_0*alpha\n",
        "  a = R_0*beta\n",
        "\n",
        "  T1,T2 = solve_quadratic(a, b, c)\n",
        "\n",
        "  if T2>0 and T2<35:\n",
        "    Tfinal= T2\n",
        "  elif T1>0 and T1<35:\n",
        "    Tfinal= T1\n",
        "  return Tfinal"
      ],
      "metadata": {
        "id": "5u3e1JrEJMxs"
      },
      "execution_count": 82,
      "outputs": []
    },
    {
      "cell_type": "code",
      "source": [
        "def calc_temp_ave_List(index_T):\n",
        "  '''\n",
        "  Función que calcula temperatura promedio de una medición puntual\n",
        "  Input = Número de Medición\n",
        "  Output= promedio de temperatura en grados centígrados\n",
        "  '''\n",
        "  R_Tlist_S1=[]\n",
        "  R_Tlist_S2=[]\n",
        "\n",
        "  Start_Mean= StartDateNumList[index_T]\n",
        "  Stop_Mean = StopDateNumList[index_T]\n",
        "\n",
        "  for i in range(size_df_t):\n",
        "\n",
        "    time_mean_temp = int(df_t.iloc[i, df_t.columns.get_loc('Time T')])\n",
        "\n",
        "    if time_mean_temp>=Start_Mean and time_mean_temp<=Stop_Mean:\n",
        "        R_Tlist_S1.append(Val_Sonda1_Ohm[i])\n",
        "        R_Tlist_S2.append(Val_Sonda2_Ohm[i])\n",
        "\n",
        "  if R_Tlist_S1:\n",
        "    T_aux_1=Temp_ave(np.mean(R_Tlist_S1),0)\n",
        "  else:\n",
        "    T_aux_1=0\n",
        "  if R_Tlist_S2:\n",
        "    T_aux_2=Temp_ave(np.mean(R_Tlist_S2),1)\n",
        "  else:\n",
        "    T_aux_2=0\n",
        "  return T_aux_1,T_aux_2"
      ],
      "metadata": {
        "id": "V9QkNUnn51Qf"
      },
      "execution_count": 83,
      "outputs": []
    },
    {
      "cell_type": "code",
      "source": [
        "TempList_S1=[0]*Quantity_Measurements                                  #Temp promedio por medición (Rosemount)\n",
        "TempListString_S1=[\"\"]*Quantity_Measurements                           #Idem en formato string\n",
        "TempList_S2=[0]*Quantity_Measurements                                  #Temp promedio por medición (PT100)\n",
        "TempListString_S2=[\"\"]*Quantity_Measurements                           #Idem en formato string\n",
        "\n",
        "\n",
        "for i in range(Quantity_Measurements):                                 #Tomo valores\n",
        "  TempList_S1[i],TempList_S2[i]= calc_temp_ave_List(i)\n",
        "\n",
        "  if TempList_S1[i]==0:                                                #Si dan 0 es que la medición no fue tomada\n",
        "    Temp_aux= \"Temperatura no Medida\"                                  #Puede existir otra condición\n",
        "  else:\n",
        "    Temp_aux=str(round(TempList_S1[i],2))\n",
        "  TempListString_S1[i]=Temp_aux\n",
        "\n",
        "  if TempList_S2[i]==0:\n",
        "    Temp_aux=\"Temperatura no medida\"\n",
        "  else:\n",
        "    Temp_aux=str(round(TempList_S2[i],2))\n",
        "  TempListString_S2[i]=Temp_aux\n",
        "\n"
      ],
      "metadata": {
        "id": "KS1UwB2ULCl_"
      },
      "execution_count": 84,
      "outputs": []
    },
    {
      "cell_type": "code",
      "source": [
        "measure_fixed_TList=[]                                                        #Listado de listas que permiten el cálculo de la resistencia corregida\n",
        "aux_measure_fixed_T=[0]*num_measure_est\n",
        "measure_fixed_T=[0]*Quantity_Measurements\n",
        "\n",
        "if Sonda==0:tParam =TempList_S1\n",
        "if Sonda==1:tParam =TempList_S2\n",
        "\n",
        "for i in range(Quantity_Measurements):                                          # Bucle que forma un listado de listas con los resultados de resistencia corregidos por temperatura\n",
        "  T=tParam[i]\n",
        "  a_sd = Rs_alpha*(T-Rs_T)\n",
        "  b_sd = (Rs_beta*(T-Rs_T))**2\n",
        "  for j in range(num_measure_est):\n",
        "\n",
        "    gamma_sd=ratio[i][j]\n",
        "    aux_measure_fixed_T[j]= gamma_sd* Rs_R0* float((1+a_sd+b_sd))\n",
        "\n",
        "  measure_fixed_TList.append(copy.deepcopy(aux_measure_fixed_T))                # Usa copy porque sino agregaba solo último listado muchas veces\n",
        ""
      ],
      "metadata": {
        "id": "4bWiG7WnOTSL"
      },
      "execution_count": 85,
      "outputs": []
    },
    {
      "cell_type": "code",
      "source": [
        "stdList_T=[0]*Quantity_Measurements                                             # Correcciones por temperaturas\n",
        "stdList_T_ppm=[0]*Quantity_Measurements\n",
        "\n",
        "for i in range(Quantity_Measurements):\n",
        "    measure_fixed_T[i]=np.mean(measure_fixed_TList[i])                        # Valor resistencia promedio por medición corregida en temperatura\n",
        "    stdList_T[i]=np.std(measure_fixed_TList[i])                               # Valor de desviación promedio por medición corregida en temperatura\n",
        "    stdList_T[i]=np.std(measure_fixed_TList[i])\n",
        "    stdList_T_ppm[i]=str(round((stdList_T[i]/measure_fixed_T[i])*10**6,4))\n",
        "\n",
        "am_full_str=str(round(np.mean(measure_fixed_T),9))\n",
        "sd_full_str=str(round(np.std(measure_fixed_T),9))\n",
        "\n",
        "t_x_full= [f\"Medición {i+1}\" for i in range(Quantity_Measurements)]             # Listado con la cantidad de mediciones para luego graficar\n"
      ],
      "metadata": {
        "id": "3NWosTCFxKNk"
      },
      "execution_count": 86,
      "outputs": []
    },
    {
      "cell_type": "code",
      "source": [
        "if Sonda==2:\n",
        "          df_show = pd.DataFrame({'Medición': t_x_full,'Resistencia Media (Ω)':measure_fixed_T,'Desvío Estandar(ppm)':stdList_T_ppm, 'Temp. Medida con Rosemount (°C)': TempListString_S1,'Temp. Medida con LPC PT100-02 (°C)': TempListString_S2, 'Fecha de inicio' :StartDateList,'Horario de Inicio': StartHourList,'Fecha de Finalización' :StopDateList,'Horario de Finalización': StopHourList})\n",
        "elif Sonda==1:\n",
        "          df_show= pd.DataFrame({'Medición': t_x_full,'Resistencia Media (Ω)':measure_fixed_T,'Desvío Estandar(ppm)':stdList_T_ppm, 'Temp. Medida con LPC PT100-02  (°C)': TempListString_S2, 'Fecha de inicio' :StartDateList,'Horario de Inicio': StartHourList,'Fecha de Finalización' :StopDateList,'Horario de Finalización': StopHourList})\n",
        "elif Sonda==0:\n",
        "          df_show= pd.DataFrame({'Medición': t_x_full,'Resistencia Media (Ω)':measure_fixed_T,'Desvío Estandar(ppm)':stdList_T_ppm, 'Temp. Medida con Rosemount (°C)': TempListString_S1, 'Fecha de inicio' :StartDateList,'Horario de Inicio': StartHourList,'Fecha de Finalización' :StopDateList,'Horario de Finalización': StopHourList})\n",
        "\n"
      ],
      "metadata": {
        "id": "Fau1sQPQkIxQ"
      },
      "execution_count": 87,
      "outputs": []
    },
    {
      "cell_type": "markdown",
      "source": [
        "## Configuración de analizador\n"
      ],
      "metadata": {
        "id": "580e6MlmKxUk"
      }
    },
    {
      "cell_type": "code",
      "execution_count": 88,
      "metadata": {
        "id": "1_Zm-EhoI5d0"
      },
      "outputs": [],
      "source": [
        "##################################################################################################################################\n",
        "counter_m = []\n",
        "for i in range(Quantity_Measurements):                             # Genera un listado en función de cuantas mediciones se leyeron\n",
        "    counter_m.append(i+1)                                          # para que se muestre en la lista desplegable (dropdown)\n",
        "\n",
        "menu_desplegable = widgets.Dropdown(                               # Creación widget de dropdown\n",
        "    options=counter_m,\n",
        "    value=counter_m[0],\n",
        "    description='Medición:')\n",
        "\n",
        "\n",
        "def handle_dropdown_change(change):                                # Función de cambio del dropdown\n",
        "    global index\n",
        "    if flag_Ch_Drop==0:\n",
        "      index = change.new\n",
        "\n",
        "                                                                   # Crear widgets de texto\n",
        "output_text0  = widgets.Label(value='')\n",
        "output_text1  = widgets.Label(value='')\n",
        "output_text2  = widgets.Label(value='')\n",
        "output_text3  = widgets.Label(value='')\n",
        "output_text4  = widgets.Label(value='')\n",
        "output_text5  = widgets.Label(value='')\n",
        "output_text6  = widgets.Label(value='')\n",
        "output_text7  = widgets.Label(value='')\n",
        "output_text8  = widgets.Label(value='')\n",
        "output_text9  = widgets.Label(value =\"Fecha de inicio :\"       + StartDateList[0] + \"  Hora: \"+StartHourList[0])\n",
        "output_text10 = widgets.Label(value =\"Fecha de finalización :\" + StopDateList[Quantity_Measurements-1] + \"  Hora: \"+StopHourList[Quantity_Measurements-1])\n",
        "output_text11 = widgets.Label(value =\"Resistor Incógnito :\"    + RxList[0] + \"Ω\" )\n",
        "output_text14 = widgets.Label(value =\"Marca/Modelo :\"          + Rx_modelList[0])\n",
        "output_text12 = widgets.Label(value =\"Resistor Patrón :\"       + RsList[0] + \"Ω\")\n",
        "output_text13 = widgets.Label(value =\"Marca/Modelo :\"          + Rs_modelList[0] + \"Ω\")\n",
        "\n",
        "\n",
        "def on_button_calcu_click(b):\n",
        "  global flag_En_Calc,index,TempListString_S1,Sonda\n",
        "  if flag_En_Calc==0:\n",
        "      Show_Info1(index)\n",
        "      flag_En_Calc=1\n",
        "\n",
        "def Show_Info1(index_s):\n",
        "      output_text0.value    = \"Datos de la medición \"           +str(index_s)\n",
        "      output_text1.value    = \"Resistencia Promedio: \"          +str(measure_fixed_T[index_s-1]) + \"Ω\"\n",
        "      output_text2.value    = \"Desvío Estándar: \"               + str(stdList_T[index_s-1])\n",
        "      if(Sonda==0):\n",
        "        output_text3.value  = \"Temperatura media (Rosemount): \" + TempListString_S1[index_s-1]  +\"°C\"\n",
        "      if(Sonda==1):\n",
        "        output_text3.value  = \"Temperatura media (LPC-PT100): \" + TempListString_S2[index_s-1]  +\"°C\"\n",
        "      output_text4.value    = \"Resistor Estándar (Rs): \"        + RsList[index_s-1] +\"Ω\"\n",
        "      output_text5.value    = \"Valor nominal (Rx): \"            + RxList[index_s-1] +\"Ω\"\n",
        "      output_text6.value    = \"Corriente Ix para ensayo: \"      + iList[index_s-1]  +\"A\"\n",
        "      display(df_m[index_s-1])\n",
        "\n",
        "def on_button_clear_click(b):\n",
        "    global index,flag_En_Calc, flag_En_Graf,flag_Ch_Drop\n",
        "    output_text0.value = ''\n",
        "    output_text1.value = ''\n",
        "    output_text2.value = ''\n",
        "    output_text3.value = ''\n",
        "    output_text4.value = ''\n",
        "    output_text5.value = ''\n",
        "    output_text6.value = ''\n",
        "    output_text7.value = ''\n",
        "    output_text8.value = ''\n",
        "    output_text9.value = ''\n",
        "    output_text10.value = ''\n",
        "    flag_En_Calc=0\n",
        "    flag_En_Graf=0\n",
        "    flag_Ch_Drop=0\n",
        "    index=1\n",
        "    menu_desplegable.value =index\n",
        "    clear_output()\n",
        "    display(tab)\n",
        "\n",
        "def on_button_grafi_click(b):\n",
        "    global index, flag_En_Graf\n",
        "    if flag_En_Graf==0:\n",
        "      t_x = time_h[index]\n",
        "      r_y = measure_f[index]\n",
        "      r_y_array = np.array(r_y, dtype=float)\n",
        "      r_y_array = r_y_array - r_y_array.mean()\n",
        "      plt.figure(figsize=(15,6))\n",
        "      plt.xticks(rotation=45)\n",
        "      display(plt.plot(t_x, r_y_array))\n",
        "      flag_En_Graf=1\n",
        "\n",
        "def on_button_show_full_click(b):\n",
        "      global t_x_full , measure_fixed_T,am_full,sd_full\n",
        "      output_text7.value = \"Resistencia Promedio total: \" + am_full_str + \"Ω\"\n",
        "      output_text8.value = \"Desvío estándar total: \"      + sd_full_str\n",
        "      r_y = measure_fixed_T\n",
        "      r_y_array = np.array(r_y, dtype=float)\n",
        "      r_y_array = r_y_array - r_y_array.mean()\n",
        "      plt.figure(figsize=(15,6))\n",
        "      plt.xticks(rotation=45)\n",
        "      display(plt.plot(t_x_full, r_y_array))\n",
        "      display(df_show)\n",
        "\n",
        "def show_menu_1():\n",
        "    display(output_text9)\n",
        "    display(output_text10)\n",
        "    display(output_text11)\n",
        "    display(output_text14)\n",
        "    display(output_text12)\n",
        "    display(output_text13)\n",
        "    display(button_show_full)\n",
        "    display(output_text4)\n",
        "    display(output_text5)\n",
        "    display(output_text6)\n",
        "    display(button_clear)\n",
        "    display(output_text7)\n",
        "    display(output_text8)\n",
        "\n",
        "\n",
        "def show_menu_2():\n",
        "    display(menu_desplegable)\n",
        "    display(button_calcu)\n",
        "    display(button_grafi)\n",
        "    display(button_clear)\n",
        "    display(output_text0)\n",
        "    display(output_text1)\n",
        "    display(output_text2)\n",
        "    display(output_text3)\n",
        "    display(output_text4)\n",
        "    display(output_text5)\n",
        "    display(output_text6)\n",
        "\n",
        "def Mostrar_Resultados():\n",
        "  display(tab)\n",
        "\n",
        "button_calcu = widgets.Button(description=\"Calcular\")                       #Tab2\n",
        "button_clear = widgets.Button(description=\"Limpiar\")                        #Tab1 y Tab2\n",
        "button_grafi = widgets.Button(description=\"Graficar\")                       #Tab2\n",
        "button_show_full = widgets.Button(description=\"Ver resultados global\")      #Tab1\n",
        "\n",
        "# Configurar la función a llamar cuando se hace clic en el botón\n",
        "button_calcu.on_click(on_button_calcu_click)\n",
        "button_clear.on_click(on_button_clear_click)\n",
        "button_grafi.on_click(on_button_grafi_click)\n",
        "button_show_full.on_click(on_button_show_full_click)\n",
        "\n",
        "menu_desplegable.observe(handle_dropdown_change, names='value')\n",
        "\n",
        "################################################# Crear pestañas  ####################################################################\n",
        "\n",
        "tab1 = widgets.Output()\n",
        "tab2 = widgets.Output()\n",
        "\n",
        "tab = widgets.Tab(children=[tab1, tab2])\n",
        "\n",
        "# Agregar etiquetas a las pestañas\n",
        "tab.set_title(0, 'Análisis General')\n",
        "tab.set_title(1, 'Análisis por Medición')# Contenido de la primera pestaña\n",
        "with tab1:\n",
        "    show_menu_1()\n",
        "# Contenido de la segunda pestaña\n",
        "with tab2:\n",
        "    show_menu_2()\n",
        "\n",
        "\n",
        "############################################################################################################################################\n"
      ]
    },
    {
      "cell_type": "markdown",
      "source": [
        "# Analizador"
      ],
      "metadata": {
        "id": "zcVCrYIVTmvV"
      }
    },
    {
      "cell_type": "code",
      "source": [
        "Mostrar_Resultados()\n"
      ],
      "metadata": {
        "id": "fCXgI24bTy5l"
      },
      "execution_count": null,
      "outputs": []
    }
  ],
  "metadata": {
    "colab": {
      "provenance": [],
      "collapsed_sections": [
        "bdKmSv-HHQTM",
        "wwV0jaXjCkT_",
        "Tt7SeMDYM_L_",
        "580e6MlmKxUk"
      ],
      "toc_visible": true,
      "include_colab_link": true
    },
    "kernelspec": {
      "display_name": "Python 3",
      "name": "python3"
    },
    "language_info": {
      "name": "python"
    },
    "widgets": {
      "application/vnd.jupyter.widget-state+json": {
        "912040e89f5049149d0c592bd45fd158": {
          "model_module": "@jupyter-widgets/controls",
          "model_name": "ButtonModel",
          "model_module_version": "1.5.0",
          "state": {
            "_dom_classes": [],
            "_model_module": "@jupyter-widgets/controls",
            "_model_module_version": "1.5.0",
            "_model_name": "ButtonModel",
            "_view_count": null,
            "_view_module": "@jupyter-widgets/controls",
            "_view_module_version": "1.5.0",
            "_view_name": "ButtonView",
            "button_style": "",
            "description": "Cargar *.mea",
            "disabled": false,
            "icon": "",
            "layout": "IPY_MODEL_731697459c624b94a229c9f6daa2a761",
            "style": "IPY_MODEL_ebf3be2b6c1143f781496cdf889d9bb7",
            "tooltip": ""
          }
        },
        "731697459c624b94a229c9f6daa2a761": {
          "model_module": "@jupyter-widgets/base",
          "model_name": "LayoutModel",
          "model_module_version": "1.2.0",
          "state": {
            "_model_module": "@jupyter-widgets/base",
            "_model_module_version": "1.2.0",
            "_model_name": "LayoutModel",
            "_view_count": null,
            "_view_module": "@jupyter-widgets/base",
            "_view_module_version": "1.2.0",
            "_view_name": "LayoutView",
            "align_content": null,
            "align_items": null,
            "align_self": null,
            "border": null,
            "bottom": null,
            "display": null,
            "flex": null,
            "flex_flow": null,
            "grid_area": null,
            "grid_auto_columns": null,
            "grid_auto_flow": null,
            "grid_auto_rows": null,
            "grid_column": null,
            "grid_gap": null,
            "grid_row": null,
            "grid_template_areas": null,
            "grid_template_columns": null,
            "grid_template_rows": null,
            "height": null,
            "justify_content": null,
            "justify_items": null,
            "left": null,
            "margin": null,
            "max_height": null,
            "max_width": null,
            "min_height": null,
            "min_width": null,
            "object_fit": null,
            "object_position": null,
            "order": null,
            "overflow": null,
            "overflow_x": null,
            "overflow_y": null,
            "padding": null,
            "right": null,
            "top": null,
            "visibility": null,
            "width": null
          }
        },
        "ebf3be2b6c1143f781496cdf889d9bb7": {
          "model_module": "@jupyter-widgets/controls",
          "model_name": "ButtonStyleModel",
          "model_module_version": "1.5.0",
          "state": {
            "_model_module": "@jupyter-widgets/controls",
            "_model_module_version": "1.5.0",
            "_model_name": "ButtonStyleModel",
            "_view_count": null,
            "_view_module": "@jupyter-widgets/base",
            "_view_module_version": "1.2.0",
            "_view_name": "StyleView",
            "button_color": null,
            "font_weight": ""
          }
        },
        "bacd1cfd40a3465093f034c44e3d976c": {
          "model_module": "@jupyter-widgets/controls",
          "model_name": "ButtonModel",
          "model_module_version": "1.5.0",
          "state": {
            "_dom_classes": [],
            "_model_module": "@jupyter-widgets/controls",
            "_model_module_version": "1.5.0",
            "_model_name": "ButtonModel",
            "_view_count": null,
            "_view_module": "@jupyter-widgets/controls",
            "_view_module_version": "1.5.0",
            "_view_name": "ButtonView",
            "button_style": "",
            "description": "Cargar *.dat",
            "disabled": false,
            "icon": "",
            "layout": "IPY_MODEL_2ccfb6cccf3142e288a71161070d7ef8",
            "style": "IPY_MODEL_89a9518b39534bf48e5addebed11371b",
            "tooltip": ""
          }
        },
        "2ccfb6cccf3142e288a71161070d7ef8": {
          "model_module": "@jupyter-widgets/base",
          "model_name": "LayoutModel",
          "model_module_version": "1.2.0",
          "state": {
            "_model_module": "@jupyter-widgets/base",
            "_model_module_version": "1.2.0",
            "_model_name": "LayoutModel",
            "_view_count": null,
            "_view_module": "@jupyter-widgets/base",
            "_view_module_version": "1.2.0",
            "_view_name": "LayoutView",
            "align_content": null,
            "align_items": null,
            "align_self": null,
            "border": null,
            "bottom": null,
            "display": null,
            "flex": null,
            "flex_flow": null,
            "grid_area": null,
            "grid_auto_columns": null,
            "grid_auto_flow": null,
            "grid_auto_rows": null,
            "grid_column": null,
            "grid_gap": null,
            "grid_row": null,
            "grid_template_areas": null,
            "grid_template_columns": null,
            "grid_template_rows": null,
            "height": null,
            "justify_content": null,
            "justify_items": null,
            "left": null,
            "margin": null,
            "max_height": null,
            "max_width": null,
            "min_height": null,
            "min_width": null,
            "object_fit": null,
            "object_position": null,
            "order": null,
            "overflow": null,
            "overflow_x": null,
            "overflow_y": null,
            "padding": null,
            "right": null,
            "top": null,
            "visibility": null,
            "width": null
          }
        },
        "89a9518b39534bf48e5addebed11371b": {
          "model_module": "@jupyter-widgets/controls",
          "model_name": "ButtonStyleModel",
          "model_module_version": "1.5.0",
          "state": {
            "_model_module": "@jupyter-widgets/controls",
            "_model_module_version": "1.5.0",
            "_model_name": "ButtonStyleModel",
            "_view_count": null,
            "_view_module": "@jupyter-widgets/base",
            "_view_module_version": "1.2.0",
            "_view_name": "StyleView",
            "button_color": null,
            "font_weight": ""
          }
        },
        "96a8127a09d94bd89c9194b0c2379cf3": {
          "model_module": "@jupyter-widgets/controls",
          "model_name": "TextModel",
          "model_module_version": "1.5.0",
          "state": {
            "_dom_classes": [],
            "_model_module": "@jupyter-widgets/controls",
            "_model_module_version": "1.5.0",
            "_model_name": "TextModel",
            "_view_count": null,
            "_view_module": "@jupyter-widgets/controls",
            "_view_module_version": "1.5.0",
            "_view_name": "TextView",
            "continuous_update": true,
            "description": "Muestras:",
            "description_tooltip": null,
            "disabled": false,
            "layout": "IPY_MODEL_fb3e1517231343b6ba33cda74b987af1",
            "placeholder": "​",
            "style": "IPY_MODEL_07ce8a69bf4c429f8d8c029b5199e6da",
            "value": "10"
          }
        },
        "fb3e1517231343b6ba33cda74b987af1": {
          "model_module": "@jupyter-widgets/base",
          "model_name": "LayoutModel",
          "model_module_version": "1.2.0",
          "state": {
            "_model_module": "@jupyter-widgets/base",
            "_model_module_version": "1.2.0",
            "_model_name": "LayoutModel",
            "_view_count": null,
            "_view_module": "@jupyter-widgets/base",
            "_view_module_version": "1.2.0",
            "_view_name": "LayoutView",
            "align_content": null,
            "align_items": null,
            "align_self": null,
            "border": null,
            "bottom": null,
            "display": null,
            "flex": null,
            "flex_flow": null,
            "grid_area": null,
            "grid_auto_columns": null,
            "grid_auto_flow": null,
            "grid_auto_rows": null,
            "grid_column": null,
            "grid_gap": null,
            "grid_row": null,
            "grid_template_areas": null,
            "grid_template_columns": null,
            "grid_template_rows": null,
            "height": null,
            "justify_content": null,
            "justify_items": null,
            "left": null,
            "margin": null,
            "max_height": null,
            "max_width": null,
            "min_height": null,
            "min_width": null,
            "object_fit": null,
            "object_position": null,
            "order": null,
            "overflow": null,
            "overflow_x": null,
            "overflow_y": null,
            "padding": null,
            "right": null,
            "top": null,
            "visibility": null,
            "width": null
          }
        },
        "07ce8a69bf4c429f8d8c029b5199e6da": {
          "model_module": "@jupyter-widgets/controls",
          "model_name": "DescriptionStyleModel",
          "model_module_version": "1.5.0",
          "state": {
            "_model_module": "@jupyter-widgets/controls",
            "_model_module_version": "1.5.0",
            "_model_name": "DescriptionStyleModel",
            "_view_count": null,
            "_view_module": "@jupyter-widgets/base",
            "_view_module_version": "1.2.0",
            "_view_name": "StyleView",
            "description_width": ""
          }
        },
        "c0d35e0572cf4b3aa9b7a65adc688308": {
          "model_module": "@jupyter-widgets/controls",
          "model_name": "ButtonModel",
          "model_module_version": "1.5.0",
          "state": {
            "_dom_classes": [],
            "_model_module": "@jupyter-widgets/controls",
            "_model_module_version": "1.5.0",
            "_model_name": "ButtonModel",
            "_view_count": null,
            "_view_module": "@jupyter-widgets/controls",
            "_view_module_version": "1.5.0",
            "_view_name": "ButtonView",
            "button_style": "",
            "description": "Setear",
            "disabled": false,
            "icon": "",
            "layout": "IPY_MODEL_df2256cc03de4af299501a85f4991984",
            "style": "IPY_MODEL_6c88fd623fe04c77b1ffdb2ca4de4a0b",
            "tooltip": ""
          }
        },
        "df2256cc03de4af299501a85f4991984": {
          "model_module": "@jupyter-widgets/base",
          "model_name": "LayoutModel",
          "model_module_version": "1.2.0",
          "state": {
            "_model_module": "@jupyter-widgets/base",
            "_model_module_version": "1.2.0",
            "_model_name": "LayoutModel",
            "_view_count": null,
            "_view_module": "@jupyter-widgets/base",
            "_view_module_version": "1.2.0",
            "_view_name": "LayoutView",
            "align_content": null,
            "align_items": null,
            "align_self": null,
            "border": null,
            "bottom": null,
            "display": null,
            "flex": null,
            "flex_flow": null,
            "grid_area": null,
            "grid_auto_columns": null,
            "grid_auto_flow": null,
            "grid_auto_rows": null,
            "grid_column": null,
            "grid_gap": null,
            "grid_row": null,
            "grid_template_areas": null,
            "grid_template_columns": null,
            "grid_template_rows": null,
            "height": null,
            "justify_content": null,
            "justify_items": null,
            "left": null,
            "margin": null,
            "max_height": null,
            "max_width": null,
            "min_height": null,
            "min_width": null,
            "object_fit": null,
            "object_position": null,
            "order": null,
            "overflow": null,
            "overflow_x": null,
            "overflow_y": null,
            "padding": null,
            "right": null,
            "top": null,
            "visibility": null,
            "width": null
          }
        },
        "6c88fd623fe04c77b1ffdb2ca4de4a0b": {
          "model_module": "@jupyter-widgets/controls",
          "model_name": "ButtonStyleModel",
          "model_module_version": "1.5.0",
          "state": {
            "_model_module": "@jupyter-widgets/controls",
            "_model_module_version": "1.5.0",
            "_model_name": "ButtonStyleModel",
            "_view_count": null,
            "_view_module": "@jupyter-widgets/base",
            "_view_module_version": "1.2.0",
            "_view_name": "StyleView",
            "button_color": null,
            "font_weight": ""
          }
        },
        "09121afb9697427da6f535e5ccf0875e": {
          "model_module": "@jupyter-widgets/controls",
          "model_name": "DropdownModel",
          "model_module_version": "1.5.0",
          "state": {
            "_dom_classes": [],
            "_model_module": "@jupyter-widgets/controls",
            "_model_module_version": "1.5.0",
            "_model_name": "DropdownModel",
            "_options_labels": [
              "STRP Rosemount",
              "LPC PT100-02",
              "STRP Rosemount y LPC PT100-02"
            ],
            "_view_count": null,
            "_view_module": "@jupyter-widgets/controls",
            "_view_module_version": "1.5.0",
            "_view_name": "DropdownView",
            "description": "Sonda:",
            "description_tooltip": null,
            "disabled": false,
            "index": 1,
            "layout": "IPY_MODEL_b1929cfc4b8849b3ba5cc6419b3e6210",
            "style": "IPY_MODEL_379dc625be074184985fc4cd86731b8a"
          }
        },
        "b1929cfc4b8849b3ba5cc6419b3e6210": {
          "model_module": "@jupyter-widgets/base",
          "model_name": "LayoutModel",
          "model_module_version": "1.2.0",
          "state": {
            "_model_module": "@jupyter-widgets/base",
            "_model_module_version": "1.2.0",
            "_model_name": "LayoutModel",
            "_view_count": null,
            "_view_module": "@jupyter-widgets/base",
            "_view_module_version": "1.2.0",
            "_view_name": "LayoutView",
            "align_content": null,
            "align_items": null,
            "align_self": null,
            "border": null,
            "bottom": null,
            "display": null,
            "flex": null,
            "flex_flow": null,
            "grid_area": null,
            "grid_auto_columns": null,
            "grid_auto_flow": null,
            "grid_auto_rows": null,
            "grid_column": null,
            "grid_gap": null,
            "grid_row": null,
            "grid_template_areas": null,
            "grid_template_columns": null,
            "grid_template_rows": null,
            "height": null,
            "justify_content": null,
            "justify_items": null,
            "left": null,
            "margin": null,
            "max_height": null,
            "max_width": null,
            "min_height": null,
            "min_width": null,
            "object_fit": null,
            "object_position": null,
            "order": null,
            "overflow": null,
            "overflow_x": null,
            "overflow_y": null,
            "padding": null,
            "right": null,
            "top": null,
            "visibility": null,
            "width": null
          }
        },
        "379dc625be074184985fc4cd86731b8a": {
          "model_module": "@jupyter-widgets/controls",
          "model_name": "DescriptionStyleModel",
          "model_module_version": "1.5.0",
          "state": {
            "_model_module": "@jupyter-widgets/controls",
            "_model_module_version": "1.5.0",
            "_model_name": "DescriptionStyleModel",
            "_view_count": null,
            "_view_module": "@jupyter-widgets/base",
            "_view_module_version": "1.2.0",
            "_view_name": "StyleView",
            "description_width": ""
          }
        }
      }
    }
  },
  "nbformat": 4,
  "nbformat_minor": 0
}